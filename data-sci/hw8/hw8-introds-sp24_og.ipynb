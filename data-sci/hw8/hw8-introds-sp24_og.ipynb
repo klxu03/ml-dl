{
 "cells": [
  {
   "cell_type": "markdown",
   "metadata": {},
   "source": [
    "# Homework 8 - Spectral embedding and clustering\n",
    "\n",
    "This homework will not only help you get a better sense of how spectral embedding and clustering work, but also give you a stronger intuition for the \"radial basis function\" kernel, which is a common kernel used in many scientific applications.\n",
    "\n",
    "Make sure you have downloaded:\n",
    "- X1.csv\n",
    "- X2.csv\n",
    "- X3.csv"
   ]
  },
  {
   "cell_type": "code",
   "execution_count": null,
   "metadata": {},
   "outputs": [],
   "source": [
    "import numpy as np\n",
    "import matplotlib.pyplot as plt"
   ]
  },
  {
   "cell_type": "markdown",
   "metadata": {},
   "source": [
    "## 0. Intro\n",
    "Remember: \n",
    "- when performing spectral clustering, there is an adjacency matrix, which represents the graph/network of all data points. \n",
    "- Data points are connected if they are \"close enough\" to each together.\n",
    "- **Question:** But what constitutes close enough?\n",
    "- There are two ways to do this, as seen in the lecture notes on Embedding:\n",
    "    - k-nearest neighbors\n",
    "    - $\\exp\\left(-d^2/\\epsilon\\right)$ similarity: <u>radial basis function (RBF)</u> proximity.\n",
    "\n",
    "You know how k-nearest neighbors works. So this homework will start with introducing basic understanding of RBF and how it measures proximity. After that, we will make some functions that streamlines your code and experiment with spectral clustering models on synthetically generated data.\n"
   ]
  },
  {
   "cell_type": "markdown",
   "metadata": {},
   "source": [
    "## 1. Radial Basis Function (RBF)\n",
    "The RBF kernel, a.k.a. squared exponential/Gaussian kernel, is a function that takes in two points and outputs a number to reflect the proximity of those two points.\n",
    "\n",
    "More formally, if the two points are $x_1$ and $x_2$, the \"proximity\" of these points are \n",
    "$$\n",
    "k(x_1, x_2) \\ := \\ \\exp\\left( - \\frac{\\|x_1-x_2\\|^2}{2\\gamma^2}\\right),\n",
    "$$\n",
    "where $\\gamma$ is a lengthscale parameter you can choose. \n",
    "\n",
    "($\\gamma$ _essentially_ corresponds to the $\\epsilon$ in the lecture notes and should remind you of the variance of a normal distribution PDF.)\n",
    "\n",
    "The next task is to code up plot for RBF kernel, both in 1d and 2d. \n",
    "\n",
    "But before we do that, we make a simplifying trick to make these plots easier. \n",
    "- Notice that we are only concerned with the **distance** between two points, as represented in the $\\|x_1-x_2\\|$ term in the formula above.\n",
    "- Hence, we can set distance $d = \\|x_1-x_2\\|$ to get a new formula for RBF kernel:\n",
    "    $$\n",
    "    k(d) \\ := \\ \\exp\\left( - \\frac{d^2}{2\\gamma^2}\\right),\n",
    "    $$\n",
    "\n"
   ]
  },
  {
   "cell_type": "markdown",
   "metadata": {},
   "source": [
    "### 1.1 RBF Function\n",
    "**Task:**\n",
    "\n",
    "[1 pt] complete the code for the function `rbf()`\n",
    "- `d` is an array of distances\n",
    "    - if d is 1d, you may think of it as the x-axis. So, d[i] is the distance from 0: $\\sqrt{(x-0)^2} = |x-0|$\n",
    "    - if d is 2d, you may think of it as the xy-plane. So, d[i,j] is the distance from the origin (0,0): $\\sqrt{((x-0)^2 + (y-0)^2}$\n",
    "- `gamma` is the lengthscale parameter"
   ]
  },
  {
   "cell_type": "code",
   "execution_count": null,
   "metadata": {},
   "outputs": [],
   "source": [
    "def rbf(d,gamma):\n",
    "    return None"
   ]
  },
  {
   "cell_type": "markdown",
   "metadata": {},
   "source": [
    "### 1.2 1d plot\n",
    "**Task:**\n",
    "\n",
    "[2 pt] On the same figure and axes, plot rbf kernel for 1d case with multiple gamma.\n",
    "- set x-axis to be from [-10,10]\n",
    "- y-axis represent $k(x,0)$\n",
    "- set gamma = 1,2,3\n",
    "- include title, axis labels, gridlines and a legend"
   ]
  },
  {
   "cell_type": "code",
   "execution_count": null,
   "metadata": {},
   "outputs": [],
   "source": [
    "# TODO plot\n"
   ]
  },
  {
   "cell_type": "markdown",
   "metadata": {},
   "source": [
    "### 1.3 2d plot\n",
    "**Task:**\n",
    "\n",
    "[2 pt] On _3 separate_ axes, plot rbf kernel for 2d case with multiple gamma.\n",
    "- your plot will be a surface\n",
    "    - you may need to use np.meshgrid()\n",
    "    - you may use fig.add_subplot(1,3,i,projection='3d') to make three plots in a row. You can refer to [this matplotlib tutorial](https://matplotlib.org/stable/gallery/mplot3d/subplot3d.html#sphx-glr-gallery-mplot3d-subplot3d-py) for how to use it.\n",
    "- set x-axis and y-axis to be both from [-10,10]\n",
    "- z-axis will represent $k((x,y),(0,0))$\n",
    "- set gamma = 1,2,3\n",
    "- include titles on each plot to make clear which gamma is being plotted and axis labels"
   ]
  },
  {
   "cell_type": "code",
   "execution_count": null,
   "metadata": {},
   "outputs": [],
   "source": [
    "# TODO plot\n"
   ]
  },
  {
   "cell_type": "markdown",
   "metadata": {},
   "source": [
    "## 2. Spectral embedding/clustering functions\n",
    "Before completing the spectral clustering experiments, complete the functions below.\n",
    "\n",
    "**Task:**\n",
    "\n",
    "[3 pt] complete code below for `embed_and_plot()`\n",
    "- arguments, which will all be fed into the sklearn.manifold.SpectralEmbedding object:\n",
    "    - `X`, data, number of samples by number of dimensions\n",
    "    - `aff`, 'rbf' or 'nearest_neighbors' (short for affinity argument in SpectralEmbedding)\n",
    "    - `gam`, gamma parameter for RBF kernel\n",
    "    - `num_neighbors`, parameter for k-nearest neighbors\n",
    "    - You can set default values for gam and num_neigbors to make your function calls later easier. Here is an [example](https://www.geeksforgeeks.org/default-arguments-in-python/) of how to write default parameters.\n",
    "- your code should have two components\n",
    "    1. make SpectralEmbedding object, fit it to data X, and obtain eigenvectors of embedding.\n",
    "    2. three plots in the same row. (They should look)\n",
    "        - scatter plot of embedding coordinates (eigenvector 1 against eigenvector 2)\n",
    "        - scatter plot of embedding coordinates (eigenvector 2 against eigenvector 3)\n",
    "        - scatter plot of sorted entries of eigenvector 1 (sorted index i against entry i)\n",
    "- as usual, your plots should contain appropriate titles, axis labels, etc.\n",
    "- You should read the SpectralEmbedding [documentation](https://scikit-learn.org/stable/modules/generated/sklearn.manifold.SpectralEmbedding.html) **carefully**, so as to not make mistakes when implementing. Useful skill for any coding activity."
   ]
  },
  {
   "cell_type": "code",
   "execution_count": null,
   "metadata": {},
   "outputs": [],
   "source": [
    "from sklearn.manifold import SpectralEmbedding\n",
    "\n",
    "def embed_and_plot(X, aff, gam=1, num_neighbors=1):\n",
    "    # TODO make model, fit, and obtain eigenvectors\n",
    "    \n",
    "    \n",
    "    plt.figure(figsize=(18,4))\n",
    "    plt.subplot(131)\n",
    "    # TODO scatter eigenvector 1 entries against eigenvector 2 entries\n",
    "    \n",
    "    plt.subplot(132)\n",
    "    # TODO scatter eigenvector 2 entries against eigenvector 3 entries\n",
    "    \n",
    "    plt.subplot(133)\n",
    "    # TODO scatter sorted eigenvector 1 entries\n",
    "    \n",
    "    plt.show()"
   ]
  },
  {
   "cell_type": "markdown",
   "metadata": {},
   "source": [
    "**Task:**\n",
    "\n",
    "[2 pt] complete code below for `cluster_and_plot`\n",
    "- arguments:\n",
    "    - `X`, `aff`, `gam`, `num_neighbors` as in embed_and_plot\n",
    "    - `n_clus` is the number of clusters that you want to split the data X into.\n",
    "- your code should have two components:\n",
    "    1. make SpectralClustering object, fit to data X, and predict the cluster labels.\n",
    "    2. scatter plot of data with the predicted cluster labels. Include a title.\n"
   ]
  },
  {
   "cell_type": "code",
   "execution_count": null,
   "metadata": {},
   "outputs": [],
   "source": [
    "from sklearn.cluster import SpectralClustering\n",
    "\n",
    "def cluster_and_plot(X, n_clus, aff, gam=1, num_neighbors=1):\n",
    "    # TODO make model, fit, get cluster labels\n",
    "    \n",
    "    # TODO plot\n",
    "    \n",
    "    plt.show()"
   ]
  },
  {
   "cell_type": "markdown",
   "metadata": {},
   "source": [
    "## 3. Cluster X1\n",
    "Load and scatter plot `X1`."
   ]
  },
  {
   "cell_type": "code",
   "execution_count": null,
   "metadata": {},
   "outputs": [],
   "source": [
    "X1 = np.loadtxt('X1.csv', delimiter=',')\n",
    "plt.scatter(X1[:,0], X1[:,1]); plt.show()"
   ]
  },
  {
   "cell_type": "markdown",
   "metadata": {},
   "source": [
    "**Task:**\n",
    "\n",
    "[1 pt] call embed_and_plot and cluster_and_plot on X1.\n",
    "- you should correctly cluster the data into the two obvious clusters.\n",
    "- experiment with different choices of affinity (rbf/nearest_neighbors) and parameter values (gamma/n_neighbors)\n",
    "- all plots should be visible."
   ]
  },
  {
   "cell_type": "code",
   "execution_count": null,
   "metadata": {},
   "outputs": [],
   "source": [
    "# TODO"
   ]
  },
  {
   "cell_type": "markdown",
   "metadata": {},
   "source": [
    "## 4. Cluster X2\n",
    "Load and scatter plot `X2`."
   ]
  },
  {
   "cell_type": "code",
   "execution_count": null,
   "metadata": {},
   "outputs": [],
   "source": [
    "X2 = np.loadtxt('X2.csv', delimiter=',')\n",
    "plt.scatter(X2[:,0], X2[:,1]); plt.show()"
   ]
  },
  {
   "cell_type": "markdown",
   "metadata": {},
   "source": [
    "### 4.1 cluster\n",
    "[1 pt] call embed_and_plot and cluster_and_plot on X2.\n",
    "- same instructions as X1, except that you should obtain 3 clusters."
   ]
  },
  {
   "cell_type": "code",
   "execution_count": null,
   "metadata": {},
   "outputs": [],
   "source": [
    "# TODO"
   ]
  },
  {
   "cell_type": "markdown",
   "metadata": {},
   "source": [
    "### 4.2 Compare to k-means and GMM\n",
    "**Task:**\n",
    "\n",
    "1. [2 pt] Think back to other clustering algorithms in this course. Between k-means and GMM, which is more approapriate for X2 data? \n",
    "    - Give a reason why your chosen clustering algorithm is suited the data. \n",
    "    - Give a reason why clustering algorithm you did not choose has a limitation that prevents it from being suitable to the data.\n",
    "\n",
    "    **Ans:** \n",
    "    \n",
    "2. [2 pt] Implement the clustering algorithm that you chose in the previous question to be appropriate for X2 data.\n",
    "    - You may use relevant sklearn packages.\n",
    "    - Include a plot of the cluster labels to ensure that it is working exactly to how you expect."
   ]
  },
  {
   "cell_type": "code",
   "execution_count": null,
   "metadata": {},
   "outputs": [],
   "source": [
    "# TODO implement clustering based on your answer"
   ]
  },
  {
   "cell_type": "markdown",
   "metadata": {},
   "source": [
    "## 5. Cluster X3\n",
    "Load and scatter plot `X3`.\n"
   ]
  },
  {
   "cell_type": "code",
   "execution_count": null,
   "metadata": {},
   "outputs": [],
   "source": [
    "X3 = np.loadtxt('X3.csv', delimiter=',')\n",
    "plt.scatter(X3[:,0], X3[:,1]); plt.show()"
   ]
  },
  {
   "cell_type": "markdown",
   "metadata": {},
   "source": [
    "### 5.1 Spectral embedding/clustering\n",
    "[1 pt] call embed_and_plot and cluster_and_plot on X3.\n",
    "- Same instructions as for X1 and X2."
   ]
  },
  {
   "cell_type": "code",
   "execution_count": null,
   "metadata": {},
   "outputs": [],
   "source": [
    "# TODO"
   ]
  },
  {
   "cell_type": "markdown",
   "metadata": {},
   "source": [
    "### 5.2 When sklearn \"doesn't work\"\n",
    "**Fix aff='rbf' and gam=8.**\n",
    "\n",
    "Call embed_and_plot and cluster_and_plot on X3. (You should get a failed clustering) "
   ]
  },
  {
   "cell_type": "code",
   "execution_count": null,
   "metadata": {},
   "outputs": [],
   "source": [
    "# TODO Try aff='rbf' and gam=8"
   ]
  },
  {
   "cell_type": "markdown",
   "metadata": {},
   "source": [
    "#### Your intervention to make spectral clustering still work\n",
    "The sklearn package with spectral clustering doesn't seem to work with parameters as fixed above (aff='rbf' and 'gam=8'). So, we need to go beyond default package implementations and make some adjustments to show that the overarching idea of spectral clustering still works.\n",
    "\n",
    "**Task:**\n",
    "1. [2 pt] What do you observe about the points scattered in the <u>_embedding_</u> plots for X1, X2, and X3 when the spectral clustering method successfully clusters the data? Explain how the spectral embedding plots suggests to us that the spectral embedding method should still be applicable in clustering X3 data with these fixed parameter values.\n",
    "\n",
    "    **Ans:** \n",
    "    \n",
    "2. [1 pt] Make an adjustment to the clustering process in order to successfully cluster the data.\n",
    "    - You do not have to call the functions we wrote earlier. You can write it up yourself, using any relevant sklearn packages.\n",
    "    - Make sure to plot the successful clustering results.\n",
    "    - Hint: You can use the same spectral embedding, but perform a different clustering process on the embedded data.\n",
    "    - Hint: Use the second eigenvector, not the first! A simple thresholding suffices for the intent of this homework.\n",
    "        - However, to stretch your skills/get practice, you may perform a clustering algorithm (k-means/GMM) on the embedded data instead of the simple thresholding suggested above. It's just a few lines of code."
   ]
  },
  {
   "cell_type": "code",
   "execution_count": null,
   "metadata": {},
   "outputs": [],
   "source": [
    "# TODO make spectral clustering work :)"
   ]
  }
 ],
 "metadata": {
  "kernelspec": {
   "display_name": "base",
   "language": "python",
   "name": "python3"
  },
  "language_info": {
   "codemirror_mode": {
    "name": "ipython",
    "version": 3
   },
   "file_extension": ".py",
   "mimetype": "text/x-python",
   "name": "python",
   "nbconvert_exporter": "python",
   "pygments_lexer": "ipython3",
   "version": "3.11.5"
  }
 },
 "nbformat": 4,
 "nbformat_minor": 2
}
