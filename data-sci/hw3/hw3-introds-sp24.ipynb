{
 "cells": [
  {
   "cell_type": "markdown",
   "id": "e6cc7508",
   "metadata": {},
   "source": [
    "# Homework 3 - Principal Component Analysis on Neuron Spike Sorting\n",
    "You should have downloaded:\n",
    "- spikes.csv\n",
    "\n",
    "The homework performs PCA, but in a setting that will feel less familiar from simpler examples seen in lecture or section. But the underlying mathematics in identical and you will get a chance to see a more \"real-life\" application of PCA."
   ]
  },
  {
   "cell_type": "markdown",
   "id": "3e173a99",
   "metadata": {},
   "source": [
    "# 0 Introduction\n",
    "\n",
    "A large amount of research in neuroscience is based on the study of the activity of neurons recorded extracellularly with microwires (very thin electrodes) implanted in animals’ brains. These microwires ‘listen’ to **a few neurons close-by** the electrode tip that fire action potentials or ‘spikes’. **Each neuron has spikes of a characteristic shape**, which is determined by a variety of factors.\n",
    "\n",
    "Spike sorting seeks to **group spikes into clusters** based on the similarity of their shapes. Each cluster of spikes will correspond to individual neurons. Thus, we can understand neuron activity better if we can study their activity from the spikes in the data.\n",
    "\n",
    "We will process sample neuronal voltage recordings and use Principal Component Analysis (PCA) to separate spikes.\n",
    "\n",
    "Reference: http://www.scholarpedia.org/article/Spike_sorting\n",
    "\n",
    "This data has been preprocesed and centered for each spike to coincide with the others. \n",
    "- There are 3298 spikes.\n",
    "- Each spike contains 70 recordings representing 70 $ms$ of data. So, there are 70 features per datum."
   ]
  },
  {
   "cell_type": "markdown",
   "id": "b707b94f",
   "metadata": {},
   "source": [
    "# 1 Load and visualize data\n",
    "**Task:**\n",
    "1. [1 pt] Load two dimensional array `X` in which:\n",
    "    - rows are the 70 voltage readings for each spike (number of features)\n",
    "    - columns are observed spikes (number of data)\n",
    "\n",
    "2. [2 pt] Display the first 30 spikes in one figure.\n",
    "    - the horizontal axis would be the 70 recordings, in $ms$.\n",
    "    - the vertical axis would be the voltage, in $mV$.\n",
    "    - Include axis labels and a title"
   ]
  },
  {
   "cell_type": "code",
   "execution_count": 1,
   "id": "3e09171a",
   "metadata": {},
   "outputs": [],
   "source": [
    "# TODO load\n",
    "\n",
    "# TODO plot\n"
   ]
  },
  {
   "cell_type": "markdown",
   "id": "b89c5010",
   "metadata": {},
   "source": [
    "# 2 PCA\n",
    "\n",
    "We are interested in correlating ''spikes in the waveform'' to ''the activity of neurons''. \n",
    "\n",
    "The difficulty arrises from the fact that observed spikes can arise from the different neurons that are firing in the neighborhood of microwire (detector). Interactions (''correlation'') between spikes from different neuronal population can siginificantly change the voltage recording shape. For example, the peak of action potential from neuronal acticivity from one cell can be reduced if it concides with the dip of action potential from another cell firing. \n",
    "\n",
    "Historically, PCA has been proposed as a method to seperate spikes into clusters of neuronal activity. Let's try it ourselves.\n",
    "\n",
    "## 2.1 Eigendecomposition by sklearn\n",
    "**Task:** \n",
    "1. [1 pt] Center data by subtracting the mean, store it as ```X_ctd```. \n",
    "2. [4 pt] Use the sklearn PCA package to:\n",
    "    - fit data\n",
    "    - find covariance matrix, store it as ```cov_mat```\n",
    "    - find eigenvalues/singular values, store it as ```evals``` (Rmk: singular_values_ is not singular values, Go figure. -.-)\n",
    "    - find principal components, store it as ```evecs```. Your columns should be the eigenvectors. (Rmk: package gives tranposed version, i.e., rows are the principal components, not columns.)\n",
    "\n",
    "Through this exercise, we should gain familiarity with the package and understand that you MUST read documentation before using packages."
   ]
  },
  {
   "cell_type": "code",
   "execution_count": 2,
   "id": "a8d17dcb",
   "metadata": {},
   "outputs": [],
   "source": [
    "# TODO sklearn pca\n"
   ]
  },
  {
   "cell_type": "markdown",
   "id": "957bdf2c",
   "metadata": {},
   "source": [
    "# 2.2 Scree plot\n",
    "1. [1 pt] What is a \"scree\"? What does it mean? This is not a math question. Google it and spend 10 minutes of fun on the web.\n",
    "\n",
    "    **Ans:** (type your answer here)\n",
    "2. [2 pt] Make a scree plot of the eigenvalues of the covariance matrix.\n",
    "    - Include title and axis labels"
   ]
  },
  {
   "cell_type": "code",
   "execution_count": 3,
   "id": "85235af9",
   "metadata": {},
   "outputs": [],
   "source": [
    "# TODO plot"
   ]
  },
  {
   "attachments": {},
   "cell_type": "markdown",
   "id": "fe09278d",
   "metadata": {},
   "source": [
    "# 3 Eigenbasis\n",
    "## 3.1 Visualization of principal components\n",
    "1. [2 pt] Generate a 2D plot to display the first 4 principal components.\n",
    "- Each PC is basically a spike signal, like those plotted earlier. This is how we will visualize a 70-dimensional vector in a two dimensional plot.\n",
    "- Include a title, legend, and axis labels."
   ]
  },
  {
   "cell_type": "code",
   "execution_count": 4,
   "id": "eb59d7c9",
   "metadata": {},
   "outputs": [],
   "source": [
    "# TODO plot PCs"
   ]
  },
  {
   "cell_type": "markdown",
   "id": "fd9bfb04",
   "metadata": {},
   "source": [
    "2. [1 pt] Write code to verify that the first 4 principal components are indeed orthogonal."
   ]
  },
  {
   "cell_type": "code",
   "execution_count": 5,
   "id": "8d370d5e",
   "metadata": {},
   "outputs": [],
   "source": [
    "# TODO verify"
   ]
  },
  {
   "cell_type": "markdown",
   "id": "971cf5c7",
   "metadata": {},
   "source": [
    "## 3.2 Signal reconstruction without sklearn\n",
    "Because the principal components form an basis, each spike can be reconstructed using some weighted sum of the principal components. In this subsection, do not use sklearn package.\n",
    "\n",
    "**How to reconstruct?** For example, if we are reconstructing the spike with the first $k$ PC, you will project the spike to these principal components with \n",
    "$$U_{1:k} U_{1:k}^TX$$\n",
    "where $U_{1:k}$ is the matrix with first $k$ PCs on each column and $X$ is the spike (column vector).\n",
    "\n",
    "**Task:**\n",
    "\n",
    "In the same figure,\n",
    "1. [1 pt] Plot the first spike, ```spike01```, by indexing the correct row/column of `X_ctd`. \n",
    "    - Use solid line to differentiate it more easily from the next plots below.\n",
    "2. [2 pt] Reconstruct an approximation to ```spike01``` using the first prinicpal component only. \n",
    "    - Remember, we are using only one component, so the reconstruction will not be precise, it is only approximate. Use dashed lines to differentiate it from the true ```spike01```.\n",
    "3. [1 pt] Then repeat the reconstruction of ```spike01``` using the first two, first three, first four, and finally all principal components. Might help to use a for-loop.\n",
    "\n",
    "4. [1 pt] Your plots should include title, legend, axis labels.\n",
    "\n",
    "At the end, you should have 6 plots in the same figure:\n",
    "1. original spike\n",
    "2. Approximate reconstruction with 1 PC\n",
    "3. Approximate reconstruction with 2 PC\n",
    "4. Approximate reconstruction with 3 PC\n",
    "5. Approximate reconstruction with 4 PC\n",
    "6. Approximate reconstruction with 70 PC"
   ]
  },
  {
   "cell_type": "code",
   "execution_count": 6,
   "metadata": {},
   "outputs": [],
   "source": [
    "# TODO plot\n",
    "spike01 = None"
   ]
  },
  {
   "attachments": {},
   "cell_type": "markdown",
   "id": "b8320922",
   "metadata": {},
   "source": [
    "## 3.3 Data projection with sklearn\n",
    "\n",
    "**Task:**\n",
    "1. [1 pt] Project the centered data ```X_ctd``` onto the principal components using an appropriate method in the sklearn PCA pacakage, store it is ```X_proj```.\n",
    "    - X_proj should have dimensions 70 by 3298. You may need to take transposes accordingly.\n",
    "2. [2 pt] What is the interpretation of `X_proj[0,:]`? What does each entry represent? Similarly, what is the interpretation of `X_proj[i,:]` for arbitrary row i?\n",
    "\n",
    "    **Ans:** (type answer here)"
   ]
  },
  {
   "cell_type": "code",
   "execution_count": 7,
   "id": "402a2215",
   "metadata": {},
   "outputs": [],
   "source": [
    "# TODO project\n"
   ]
  },
  {
   "cell_type": "markdown",
   "id": "7e2b0bf3",
   "metadata": {},
   "source": [
    "# 4 Dimensionality reduction\n",
    "## 4.1 Histogram\n",
    "[2 pt] On separate figures:\n",
    "- plot a histogram of `X_proj[0,:]`\n",
    "- plot a histogram of `X_proj[1,:]`\n",
    "\n",
    "Set:\n",
    "- 50 bins equispaced between [-550,550]\n",
    "\n",
    "So, each histogram uses 3298 datapoints."
   ]
  },
  {
   "cell_type": "code",
   "execution_count": 8,
   "id": "d8a703ee",
   "metadata": {},
   "outputs": [],
   "source": [
    "# TODO show a histogram of the first principal component\n",
    "\n",
    "\n",
    "# TODO show a histogram of the second principal component \n"
   ]
  },
  {
   "cell_type": "markdown",
   "id": "7f367816",
   "metadata": {},
   "source": [
    "## 4.2 Visualize data with PC1 and PC2\n",
    "1. [2 pt] Create scatter plot of the data projected onto the first two principal components.\n",
    "    - y axis: PC2\n",
    "    - x axis: PC1\n",
    "    - Include title, axis labels"
   ]
  },
  {
   "cell_type": "code",
   "execution_count": 9,
   "id": "249e6215",
   "metadata": {},
   "outputs": [],
   "source": [
    "# TODO scatter\n"
   ]
  },
  {
   "cell_type": "markdown",
   "id": "3f767824",
   "metadata": {},
   "source": [
    "2. [1 pt] What does the scatter plot suggest about the number of potential neuronal clusters?\n",
    "\n",
    "    **Ans:** (type response here)\n",
    "    "
   ]
  },
  {
   "cell_type": "markdown",
   "id": "064a9c88",
   "metadata": {},
   "source": []
  }
 ],
 "metadata": {
  "kernelspec": {
   "display_name": "Python 3.9.7 ('base')",
   "language": "python",
   "name": "python3"
  },
  "language_info": {
   "codemirror_mode": {
    "name": "ipython",
    "version": 3
   },
   "file_extension": ".py",
   "mimetype": "text/x-python",
   "name": "python",
   "nbconvert_exporter": "python",
   "pygments_lexer": "ipython3",
   "version": "3.11.5"
  },
  "vscode": {
   "interpreter": {
    "hash": "43129c23d79667d987760d8fda822d6cf9b94e4f6ff31aa29025e95d3c53fe91"
   }
  }
 },
 "nbformat": 4,
 "nbformat_minor": 5
}
