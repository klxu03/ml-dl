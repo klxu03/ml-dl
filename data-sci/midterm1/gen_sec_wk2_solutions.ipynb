{
 "cells": [
  {
   "cell_type": "markdown",
   "id": "6dbcb1a3",
   "metadata": {},
   "source": [
    "# Section 2 - Descriptive Statistics\n",
    "You should also have downloaded:\n",
    "- stocks.csv"
   ]
  },
  {
   "cell_type": "markdown",
   "id": "f9586d32",
   "metadata": {},
   "source": [
    "## 0 Load and display\n",
    "\n",
    "We load data on monthly stock returns from 1926 to 2021 ([source](https://mba.tuck.dartmouth.edu/pages/faculty/ken.french/data_library.html)) and store it in an $\\texttt{ndarray}$ for you."
   ]
  },
  {
   "cell_type": "code",
   "execution_count": 1,
   "id": "116d7bfe",
   "metadata": {},
   "outputs": [
    {
     "data": {
      "text/html": [
       "<div>\n",
       "<style scoped>\n",
       "    .dataframe tbody tr th:only-of-type {\n",
       "        vertical-align: middle;\n",
       "    }\n",
       "\n",
       "    .dataframe tbody tr th {\n",
       "        vertical-align: top;\n",
       "    }\n",
       "\n",
       "    .dataframe thead th {\n",
       "        text-align: right;\n",
       "    }\n",
       "</style>\n",
       "<table border=\"1\" class=\"dataframe\">\n",
       "  <thead>\n",
       "    <tr style=\"text-align: right;\">\n",
       "      <th></th>\n",
       "      <th>Mkt-RF</th>\n",
       "      <th>SMB</th>\n",
       "      <th>HML</th>\n",
       "      <th>RF</th>\n",
       "    </tr>\n",
       "  </thead>\n",
       "  <tbody>\n",
       "    <tr>\n",
       "      <th>0</th>\n",
       "      <td>2.96</td>\n",
       "      <td>-2.56</td>\n",
       "      <td>-2.43</td>\n",
       "      <td>0.22</td>\n",
       "    </tr>\n",
       "    <tr>\n",
       "      <th>1</th>\n",
       "      <td>2.64</td>\n",
       "      <td>-1.17</td>\n",
       "      <td>3.82</td>\n",
       "      <td>0.25</td>\n",
       "    </tr>\n",
       "    <tr>\n",
       "      <th>2</th>\n",
       "      <td>0.36</td>\n",
       "      <td>-1.40</td>\n",
       "      <td>0.13</td>\n",
       "      <td>0.23</td>\n",
       "    </tr>\n",
       "    <tr>\n",
       "      <th>3</th>\n",
       "      <td>-3.24</td>\n",
       "      <td>-0.09</td>\n",
       "      <td>0.70</td>\n",
       "      <td>0.32</td>\n",
       "    </tr>\n",
       "    <tr>\n",
       "      <th>4</th>\n",
       "      <td>2.53</td>\n",
       "      <td>-0.10</td>\n",
       "      <td>-0.51</td>\n",
       "      <td>0.31</td>\n",
       "    </tr>\n",
       "    <tr>\n",
       "      <th>...</th>\n",
       "      <td>...</td>\n",
       "      <td>...</td>\n",
       "      <td>...</td>\n",
       "      <td>...</td>\n",
       "    </tr>\n",
       "    <tr>\n",
       "      <th>1160</th>\n",
       "      <td>2.51</td>\n",
       "      <td>-5.51</td>\n",
       "      <td>-8.85</td>\n",
       "      <td>0.36</td>\n",
       "    </tr>\n",
       "    <tr>\n",
       "      <th>1161</th>\n",
       "      <td>0.61</td>\n",
       "      <td>-3.35</td>\n",
       "      <td>-0.04</td>\n",
       "      <td>0.35</td>\n",
       "    </tr>\n",
       "    <tr>\n",
       "      <th>1162</th>\n",
       "      <td>0.35</td>\n",
       "      <td>1.61</td>\n",
       "      <td>-7.72</td>\n",
       "      <td>0.36</td>\n",
       "    </tr>\n",
       "    <tr>\n",
       "      <th>1163</th>\n",
       "      <td>6.46</td>\n",
       "      <td>1.54</td>\n",
       "      <td>-0.26</td>\n",
       "      <td>0.40</td>\n",
       "    </tr>\n",
       "    <tr>\n",
       "      <th>1164</th>\n",
       "      <td>3.21</td>\n",
       "      <td>2.07</td>\n",
       "      <td>4.13</td>\n",
       "      <td>0.45</td>\n",
       "    </tr>\n",
       "  </tbody>\n",
       "</table>\n",
       "<p>1165 rows × 4 columns</p>\n",
       "</div>"
      ],
      "text/plain": [
       "      Mkt-RF   SMB   HML    RF\n",
       "0       2.96 -2.56 -2.43  0.22\n",
       "1       2.64 -1.17  3.82  0.25\n",
       "2       0.36 -1.40  0.13  0.23\n",
       "3      -3.24 -0.09  0.70  0.32\n",
       "4       2.53 -0.10 -0.51  0.31\n",
       "...      ...   ...   ...   ...\n",
       "1160    2.51 -5.51 -8.85  0.36\n",
       "1161    0.61 -3.35 -0.04  0.35\n",
       "1162    0.35  1.61 -7.72  0.36\n",
       "1163    6.46  1.54 -0.26  0.40\n",
       "1164    3.21  2.07  4.13  0.45\n",
       "\n",
       "[1165 rows x 4 columns]"
      ]
     },
     "metadata": {},
     "output_type": "display_data"
    }
   ],
   "source": [
    "# Module for arrays.\n",
    "import numpy as np\n",
    "# Module for data frames.\n",
    "import pandas as pd\n",
    "\n",
    "# Load stock data as pandas DataFrame.\n",
    "stocks = pd.read_csv(\"stocks.csv\")\n",
    "# Display DataFrame.\n",
    "display(stocks)\n",
    "# Store stock return variable values in a NumPy array.\n",
    "ret = stocks[\"Mkt-RF\"].values"
   ]
  },
  {
   "cell_type": "code",
   "execution_count": 2,
   "id": "3e228744",
   "metadata": {},
   "outputs": [
    {
     "name": "stdout",
     "output_type": "stream",
     "text": [
      "[2.96 2.64 0.36 ... 0.35 6.46 3.21]\n"
     ]
    }
   ],
   "source": [
    "# Print the \"ret\" variable.\n",
    "print(ret)"
   ]
  },
  {
   "cell_type": "code",
   "execution_count": 3,
   "id": "14336134",
   "metadata": {},
   "outputs": [
    {
     "name": "stdout",
     "output_type": "stream",
     "text": [
      "<class 'numpy.ndarray'>\n"
     ]
    }
   ],
   "source": [
    "# Print the type of the \"ret\" variable.\n",
    "print(type(ret))"
   ]
  },
  {
   "cell_type": "markdown",
   "id": "8b0ee402",
   "metadata": {},
   "source": [
    "## 1 Compute Statistics (manual implementation)\n",
    "**Task:** implement your own functions for these descriptive statistics below. \n",
    "- mean\n",
    "- variance\n",
    "- standard deviation\n",
    "- skewness\n",
    "- kurtosis\n",
    "\n",
    "The functions should be designed to operate on a one-dimensional $\\texttt{ndarray}$. You may use other Scipy and Numpy functions in your implementations.  Apply your functions to the $\\texttt{ret}$ data to test them."
   ]
  },
  {
   "cell_type": "code",
   "execution_count": 4,
   "id": "f31d9ecc",
   "metadata": {},
   "outputs": [],
   "source": [
    "# Sample mean.\n",
    "# use len() and np.sum() \n",
    "def my_mean(arr):\n",
    "    # Sample size (length of array).\n",
    "    n = len(arr)\n",
    "    # Sum of array elements divided by sample size.\n",
    "    return np.sum(arr) / n"
   ]
  },
  {
   "cell_type": "code",
   "execution_count": 5,
   "id": "6fe3386a",
   "metadata": {},
   "outputs": [],
   "source": [
    "# Unbiased sample variance.\n",
    "# use len(), my_mean(), and np.sum() \n",
    "# tip: make a variable for each meaningful term in the formula. makes it easier to debug\n",
    "def my_var(arr):\n",
    "    # Sample size.\n",
    "    n = len(arr)\n",
    "    # Array of deviations of array elements from sample mean.\n",
    "    # Note that \"array - scalar\" will broadcast the subtraction.\n",
    "    dev = arr - my_mean(arr)\n",
    "    # Note the use of Bessel\"s correction.\n",
    "    # Note that \"array**2\" performs squaring elementwise.\n",
    "    return np.sum(dev**2) / (n - 1)"
   ]
  },
  {
   "cell_type": "code",
   "execution_count": 6,
   "id": "f427c9b4",
   "metadata": {},
   "outputs": [],
   "source": [
    "# Sample standard deviation derived from unbiased sample variance.\n",
    "# use np.sqrt() and my_var()\n",
    "def my_std(arr):\n",
    "    return np.sqrt(my_var(arr))"
   ]
  },
  {
   "cell_type": "markdown",
   "id": "3053e303",
   "metadata": {},
   "source": [
    "Let $n$ be the number of samples, $x_1, \\dots, x_n$ be the data, and $\\overline{x}$ be the sample mean. Define the moments\n",
    "$$m_k = \\frac{1}{n} \\sum_i (x_i - \\overline{x})^k.$$\n",
    "\n",
    "The adjusted (unbiased) Fisher-Pearson coefficient of **skewness** is\n",
    "$$\n",
    " \\frac{\\sqrt{n(n-1)}}{n-2} \\frac{m_3}{m_2^{3/2}}.\n",
    "$$\n"
   ]
  },
  {
   "cell_type": "code",
   "execution_count": 7,
   "id": "de8fe21b",
   "metadata": {},
   "outputs": [],
   "source": [
    "# Adjusted (unbiased) Fisher-Pearson coefficient of skewness.\n",
    "# See scipy.stats.skew documentation for the formula. Remember to center the data with the mean before using the formula\n",
    "# use len(), my_mean(), np.sum(), np.sqrt()\n",
    "# tip: as before, make variables for each meaningful term\n",
    "def my_skew(arr):\n",
    "    # Sample size.\n",
    "    n = len(arr)\n",
    "    # Centered data.\n",
    "    arr_ctd = arr - my_mean(arr)\n",
    "    # Third central sample moment.\n",
    "    m3 = np.sum(arr_ctd**3) / n\n",
    "    # Second central sample moment.\n",
    "    m2 = np.sum(arr_ctd**2) / n\n",
    "    # Bias-adjustment cofactor.\n",
    "    adj = np.sqrt(n*(n-1)) / (n-2)\n",
    "    return adj * (m3 / m2**(3/2))"
   ]
  },
  {
   "cell_type": "markdown",
   "id": "ea7b76d0",
   "metadata": {},
   "source": [
    "The unbiased Fisher coefficient of **excess kurtosis** is\n",
    "$$\n",
    " \\frac{n-1}{(n-2)(n-3)} \\left[\\frac{(n+1) m_4}{m_2^2} - 3(n-1)\\right].\n",
    "$$"
   ]
  },
  {
   "cell_type": "code",
   "execution_count": 8,
   "id": "ed238689",
   "metadata": {},
   "outputs": [],
   "source": [
    "# Adjusted Fisher coefficient of excess kurtosis.\n",
    "# See \"sample kurtosis > standard unbiased estimator\" in Kurtosis wikipedia page. This lines up with scipy.stats.kurtosis documentation, that unfortunately does not show the formula.\n",
    "# use len(), my_mean(), np.sum()\n",
    "# tip: as before, make variables for each meaningful term\n",
    "def my_kurt(arr):\n",
    "    # Sample size.\n",
    "    n = len(arr)\n",
    "    # Centered data.\n",
    "    arr_ctd = arr - my_mean(arr)\n",
    "    # Fourth central sample moment.\n",
    "    m4 = np.sum(arr_ctd**4) / n\n",
    "    # Second central sample moment.\n",
    "    m2 = np.sum(arr_ctd**2) / n\n",
    "    # Bias-adjustment cofactor.\n",
    "    adj = (n-1) / ((n-2)*(n-3))\n",
    "    return adj * ((n+1)*(m4 / (m2**2)) - (n-1)*3)"
   ]
  },
  {
   "cell_type": "markdown",
   "id": "4168b879",
   "metadata": {},
   "source": [
    "Written for you is the code to print all these results out. \n",
    "- Take some time to understand what each line of code is doing. Presenting numbers with easy-to-read prints will be a helpful skill for your own coding."
   ]
  },
  {
   "cell_type": "code",
   "execution_count": 9,
   "id": "eee8f038",
   "metadata": {},
   "outputs": [
    {
     "name": "stdout",
     "output_type": "stream",
     "text": [
      "*** My Functions ***\n",
      "Mean                      0.6785064377682404\n",
      "Variance                  28.564041066324506\n",
      "Standard Deviation        5.344533755747503\n",
      "Skewness                  0.15628277114358527\n",
      "Kurtosis                  7.450383902161545\n"
     ]
    }
   ],
   "source": [
    "# List of labels to print.\n",
    "label = [\"Mean\", \"Variance\", \"Standard Deviation\", \"Skewness\", \"Kurtosis\"]\n",
    "# List of statistics.\n",
    "my_value = [my_mean(ret), my_var(ret), my_std(ret), my_skew(ret), my_kurt(ret)]\n",
    "# Print table.\n",
    "print(\"*** My Functions ***\")\n",
    "for i in range(len(label)):\n",
    "    # Print results in two columns.\n",
    "    # \"{}\" is a placeholder for a string.\n",
    "    # \":\" indicates start of format specification.\n",
    "    # \"<\" indicates left alignment.\n",
    "    # \"25\" indicates field width of 25 characters.\n",
    "    print(\"{:<25} {}\".format(label[i], my_value[i]))"
   ]
  },
  {
   "cell_type": "markdown",
   "id": "c92c1737",
   "metadata": {},
   "source": [
    "## 2 Compare against SciPy and NumPy\n",
    "\n",
    "**Task:** Compute the same quantities using the corresponding SciPy or NumPy functions with default arguments. "
   ]
  },
  {
   "cell_type": "code",
   "execution_count": 10,
   "id": "2e7eedcf",
   "metadata": {},
   "outputs": [
    {
     "name": "stdout",
     "output_type": "stream",
     "text": [
      "                          my functions         scipy/numpy         \n",
      "Mean                      0.6785064377682404   0.6785064377682404  \n",
      "Variance                  28.564041066324506   28.539522576138822  \n",
      "Standard Deviation        5.344533755747503    5.342239471994757   \n",
      "Skewness                  0.15628277114358527  0.1560814766802238  \n",
      "Kurtosis                  7.450383902161545    7.413300610425784   \n"
     ]
    }
   ],
   "source": [
    "# The point of this exercise:\n",
    "# There are different definitions of the above statistics.\n",
    "# Some implementations provide parameters that let you choose versions.\n",
    "\n",
    "# Import specific functions from SciPy.\n",
    "from scipy.stats import skew, kurtosis\n",
    "\n",
    "# List of labels.\n",
    "label = [\"Mean\", \"Variance\", \"Standard Deviation\", \"Skewness\", \"Kurtosis\"]\n",
    "# List of statistics.\n",
    "package_value = [np.mean(ret), np.var(ret), np.std(ret), skew(ret), kurtosis(ret)]\n",
    "# Print table.\n",
    "print(\"{:<25} {:<20} {:<20}\".format('', 'my functions', 'scipy/numpy'))\n",
    "for i in range(len(label)):\n",
    "    print(\"{:<25} {:<20} {:<20}\".format(label[i], my_value[i], package_value[i]))"
   ]
  },
  {
   "cell_type": "markdown",
   "id": "8ce4cf55",
   "metadata": {},
   "source": [
    "**Discuss:** Do your functions give different results from those of the numpy/scipy implementations?\n",
    "\n",
    "If they are different:\n",
    "- are your implementations incorrect, or \n",
    "- can you adjust some parameters of the SciPy or NumPy functions to get the same results as your manual implementations?"
   ]
  },
  {
   "cell_type": "code",
   "execution_count": 11,
   "id": "d2798e0e",
   "metadata": {},
   "outputs": [
    {
     "name": "stdout",
     "output_type": "stream",
     "text": [
      "                          my functions         scipy/numpy         \n",
      "Mean                      0.6785064377682404   0.6785064377682404  \n",
      "Variance                  28.564041066324506   28.564041066324506  \n",
      "Standard Deviation        5.344533755747503    5.344533755747503   \n",
      "Skewness                  0.15628277114358527  0.15628277114358524 \n",
      "Kurtosis                  7.450383902161545    7.450383902161546   \n"
     ]
    }
   ],
   "source": [
    "# Results differ for variance, standard deviation, skewness, and kurtosis.\n",
    "# This is because the default parameters set the functions to compute alternative versions of the statistics.\n",
    "\n",
    "# We can adjust the parameters to match our versions of the statistics.\n",
    "# Note the extra arguments to the functions.\n",
    "label = [\"Mean\", \"Variance\", \"Standard Deviation\", \"Skewness\", \"Kurtosis\"]\n",
    "package_value_adj = [np.mean(ret), np.var(ret, ddof=1), np.std(ret, ddof=1), skew(ret, bias=False), kurtosis(ret, bias=False)] # TODO\n",
    "\n",
    "# Print table.\n",
    "print(\"{:<25} {:<20} {:<20}\".format('', 'my functions', 'scipy/numpy'))\n",
    "for i in range(len(label)):\n",
    "    print(\"{:<25} {:<20} {:<20}\".format(label[i], my_value[i], package_value_adj[i]))\n",
    "\n",
    "# Results are now within a roundoff error of each other.\n",
    "# Roundoff error is due to alternative arithmetic implementation."
   ]
  },
  {
   "cell_type": "markdown",
   "id": "3da9eeb9",
   "metadata": {},
   "source": [
    "## 3 Are stocks normally distributed? Visual comparison.\n",
    "\n",
    "The normal distribution is commonly used to model natural and social phenomena. Investigate whether the hypothesis that stock return is normally distributed is plausible.\n",
    "\n",
    "**Task:**\n",
    "- Simulate draws from a normal distribution having \n",
    "    - mean equal to the sample mean of the stock returns and \n",
    "    - standard deviation equal to the sample standard deviation of the stock returns. \n",
    "    - Use a random state of 0, and \n",
    "    - for the number of draws, use the number of stock return observations.\n",
    "- (Done for you) Compare histograms of the simulated data and the actual stock returns.\n",
    "    - **Discuss:** Note how we choose the bins carefully. If you changed the 'bins=mybins' to 'bins=100', what difference do you see?"
   ]
  },
  {
   "cell_type": "code",
   "execution_count": 12,
   "id": "4e6e9087",
   "metadata": {
    "scrolled": true
   },
   "outputs": [
    {
     "data": {
      "image/png": "[encoded data removed]",
      "text/plain": [
       "<Figure size 640x480 with 1 Axes>"
      ]
     },
     "metadata": {},
     "output_type": "display_data"
    }
   ],
   "source": [
    "# Import class for normal distribution from SciPy.\n",
    "# It is customary to import this under an alias because \"norm\" is used for vector norms.\n",
    "from scipy.stats import norm as gaussian\n",
    "# Import class for plotting.\n",
    "import matplotlib.pyplot as plt\n",
    "\n",
    "# Number of stock return observations.\n",
    "n = len(ret)\n",
    "# Simulate normal random variates using a method.\n",
    "# Note specification of random state (seed).\n",
    "sim = gaussian.rvs(loc=np.mean(ret), scale=np.std(ret), size=n, random_state=0) # TODO\n",
    "\n",
    "# Plot frequency histograms.\n",
    "_, mybins, _ = plt.hist(ret, bins=100, label=\"Actual Returns\")\n",
    "# alpha controls transparency.\n",
    "plt.hist(sim, bins=mybins, alpha=0.66, label=\"Simulated Returns Under Normality\")\n",
    "# Display legend.\n",
    "plt.legend()\n",
    "# Shows previously specified plot elements.\n",
    "plt.show()\n",
    "\n",
    "# The returns exhibit fatter tails in comparison to the simulated normal data.\n",
    "# This is called \"excess kurtosis\" or \"leptokurtosis.\"\n",
    "# It indicates that extreme outcomes are more probable than under a normal distribution.\n",
    "# Excess kurtosis is a commonly observed feature of asset returns.\n",
    "# The hypothesis that the historical stock return is normally distributed is implausible based on differing kurtosis."
   ]
  },
  {
   "cell_type": "code",
   "execution_count": null,
   "id": "a81719d5",
   "metadata": {},
   "outputs": [],
   "source": []
  }
 ],
 "metadata": {
  "kernelspec": {
   "display_name": "base",
   "language": "python",
   "name": "python3"
  },
  "language_info": {
   "codemirror_mode": {
    "name": "ipython",
    "version": 3
   },
   "file_extension": ".py",
   "mimetype": "text/x-python",
   "name": "python",
   "nbconvert_exporter": "python",
   "pygments_lexer": "ipython3",
   "version": "3.11.5"
  },
  "vscode": {
   "interpreter": {
    "hash": "43129c23d79667d987760d8fda822d6cf9b94e4f6ff31aa29025e95d3c53fe91"
   }
  }
 },
 "nbformat": 4,
 "nbformat_minor": 5
}
