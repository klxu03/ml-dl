{
 "cells": [
  {
   "cell_type": "markdown",
   "metadata": {},
   "source": [
    "<hr/>\n",
    "\n",
    "# Introduction to Data Science\n",
    "**Tamás Budavári** - budavari@jhu.edu <br/>\n",
    "\n",
    "- Useful Python modules\n",
    "\n",
    "<hr/>"
   ]
  },
  {
   "cell_type": "code",
   "execution_count": 1,
   "metadata": {},
   "outputs": [],
   "source": [
    "%matplotlib inline\n",
    "import numpy as np\n",
    "import matplotlib.pyplot as plt"
   ]
  },
  {
   "cell_type": "code",
   "execution_count": 2,
   "metadata": {},
   "outputs": [],
   "source": [
    "from IPython.display import display"
   ]
  },
  {
   "cell_type": "code",
   "execution_count": 3,
   "metadata": {},
   "outputs": [
    {
     "name": "stdout",
     "output_type": "stream",
     "text": [
      "[[ 0.6969258   0.37739045 -1.5537682   0.29169177]\n",
      " [ 0.97445242  1.04159483  1.58258275 -0.39345371]\n",
      " [ 1.68185074 -1.05820368 -1.8951535   1.0841347 ]\n",
      " [ 0.90171298  0.55157238  0.02116289  0.78681239]\n",
      " [ 0.21590553  0.82460587  2.04463651  0.33644233]\n",
      " [-1.0494994   0.6668064  -1.29189933  1.36465103]]\n"
     ]
    }
   ],
   "source": [
    "m = np.random.randn(6,4)\n",
    "print (m)"
   ]
  },
  {
   "cell_type": "code",
   "execution_count": 4,
   "metadata": {},
   "outputs": [
    {
     "data": {
      "text/plain": [
       "array([[ 0.6969258 ,  0.37739045, -1.5537682 ,  0.29169177],\n",
       "       [ 0.97445242,  1.04159483,  1.58258275, -0.39345371],\n",
       "       [ 1.68185074, -1.05820368, -1.8951535 ,  1.0841347 ],\n",
       "       [ 0.90171298,  0.55157238,  0.02116289,  0.78681239],\n",
       "       [ 0.21590553,  0.82460587,  2.04463651,  0.33644233],\n",
       "       [-1.0494994 ,  0.6668064 , -1.29189933,  1.36465103]])"
      ]
     },
     "execution_count": 4,
     "metadata": {},
     "output_type": "execute_result"
    }
   ],
   "source": [
    "m"
   ]
  },
  {
   "cell_type": "code",
   "execution_count": 5,
   "metadata": {},
   "outputs": [
    {
     "data": {
      "text/plain": [
       "array([[ 0.6969258 ,  0.37739045, -1.5537682 ,  0.29169177],\n",
       "       [ 0.97445242,  1.04159483,  1.58258275, -0.39345371],\n",
       "       [ 1.68185074, -1.05820368, -1.8951535 ,  1.0841347 ],\n",
       "       [ 0.90171298,  0.55157238,  0.02116289,  0.78681239],\n",
       "       [ 0.21590553,  0.82460587,  2.04463651,  0.33644233],\n",
       "       [-1.0494994 ,  0.6668064 , -1.29189933,  1.36465103]])"
      ]
     },
     "metadata": {},
     "output_type": "display_data"
    },
    {
     "data": {
      "text/plain": [
       "array([[ 0.6969258 ,  0.37739045, -1.5537682 ,  0.29169177],\n",
       "       [ 0.97445242,  1.04159483,  1.58258275, -0.39345371],\n",
       "       [ 1.68185074, -1.05820368, -1.8951535 ,  1.0841347 ]])"
      ]
     },
     "metadata": {},
     "output_type": "display_data"
    }
   ],
   "source": [
    "display(m); display(m[:3])"
   ]
  },
  {
   "cell_type": "code",
   "execution_count": 6,
   "metadata": {},
   "outputs": [],
   "source": [
    "import pandas as pd"
   ]
  },
  {
   "cell_type": "code",
   "execution_count": 7,
   "metadata": {},
   "outputs": [
    {
     "data": {
      "text/html": [
       "<div>\n",
       "<style scoped>\n",
       "    .dataframe tbody tr th:only-of-type {\n",
       "        vertical-align: middle;\n",
       "    }\n",
       "\n",
       "    .dataframe tbody tr th {\n",
       "        vertical-align: top;\n",
       "    }\n",
       "\n",
       "    .dataframe thead th {\n",
       "        text-align: right;\n",
       "    }\n",
       "</style>\n",
       "<table border=\"1\" class=\"dataframe\">\n",
       "  <thead>\n",
       "    <tr style=\"text-align: right;\">\n",
       "      <th></th>\n",
       "      <th>0</th>\n",
       "      <th>1</th>\n",
       "      <th>2</th>\n",
       "      <th>3</th>\n",
       "    </tr>\n",
       "  </thead>\n",
       "  <tbody>\n",
       "    <tr>\n",
       "      <th>0</th>\n",
       "      <td>0.696926</td>\n",
       "      <td>0.377390</td>\n",
       "      <td>-1.553768</td>\n",
       "      <td>0.291692</td>\n",
       "    </tr>\n",
       "    <tr>\n",
       "      <th>1</th>\n",
       "      <td>0.974452</td>\n",
       "      <td>1.041595</td>\n",
       "      <td>1.582583</td>\n",
       "      <td>-0.393454</td>\n",
       "    </tr>\n",
       "    <tr>\n",
       "      <th>2</th>\n",
       "      <td>1.681851</td>\n",
       "      <td>-1.058204</td>\n",
       "      <td>-1.895154</td>\n",
       "      <td>1.084135</td>\n",
       "    </tr>\n",
       "    <tr>\n",
       "      <th>3</th>\n",
       "      <td>0.901713</td>\n",
       "      <td>0.551572</td>\n",
       "      <td>0.021163</td>\n",
       "      <td>0.786812</td>\n",
       "    </tr>\n",
       "    <tr>\n",
       "      <th>4</th>\n",
       "      <td>0.215906</td>\n",
       "      <td>0.824606</td>\n",
       "      <td>2.044637</td>\n",
       "      <td>0.336442</td>\n",
       "    </tr>\n",
       "    <tr>\n",
       "      <th>5</th>\n",
       "      <td>-1.049499</td>\n",
       "      <td>0.666806</td>\n",
       "      <td>-1.291899</td>\n",
       "      <td>1.364651</td>\n",
       "    </tr>\n",
       "  </tbody>\n",
       "</table>\n",
       "</div>"
      ],
      "text/plain": [
       "          0         1         2         3\n",
       "0  0.696926  0.377390 -1.553768  0.291692\n",
       "1  0.974452  1.041595  1.582583 -0.393454\n",
       "2  1.681851 -1.058204 -1.895154  1.084135\n",
       "3  0.901713  0.551572  0.021163  0.786812\n",
       "4  0.215906  0.824606  2.044637  0.336442\n",
       "5 -1.049499  0.666806 -1.291899  1.364651"
      ]
     },
     "execution_count": 7,
     "metadata": {},
     "output_type": "execute_result"
    }
   ],
   "source": [
    "df = pd.DataFrame(m)\n",
    "df"
   ]
  },
  {
   "cell_type": "code",
   "execution_count": 8,
   "metadata": {},
   "outputs": [
    {
     "data": {
      "text/plain": [
       "DatetimeIndex(['2022-12-30', '2022-12-31', '2023-01-01', '2023-01-02',\n",
       "               '2023-01-03', '2023-01-04'],\n",
       "              dtype='datetime64[ns]', freq='D')"
      ]
     },
     "execution_count": 8,
     "metadata": {},
     "output_type": "execute_result"
    }
   ],
   "source": [
    "dates = pd.date_range('2022-12-30', periods=m.shape[0]);\n",
    "dates"
   ]
  },
  {
   "cell_type": "code",
   "execution_count": 9,
   "metadata": {},
   "outputs": [
    {
     "data": {
      "text/html": [
       "<div>\n",
       "<style scoped>\n",
       "    .dataframe tbody tr th:only-of-type {\n",
       "        vertical-align: middle;\n",
       "    }\n",
       "\n",
       "    .dataframe tbody tr th {\n",
       "        vertical-align: top;\n",
       "    }\n",
       "\n",
       "    .dataframe thead th {\n",
       "        text-align: right;\n",
       "    }\n",
       "</style>\n",
       "<table border=\"1\" class=\"dataframe\">\n",
       "  <thead>\n",
       "    <tr style=\"text-align: right;\">\n",
       "      <th></th>\n",
       "      <th>A</th>\n",
       "      <th>B</th>\n",
       "      <th>C</th>\n",
       "      <th>D</th>\n",
       "    </tr>\n",
       "    <tr>\n",
       "      <th>Dates</th>\n",
       "      <th></th>\n",
       "      <th></th>\n",
       "      <th></th>\n",
       "      <th></th>\n",
       "    </tr>\n",
       "  </thead>\n",
       "  <tbody>\n",
       "    <tr>\n",
       "      <th>2022-12-30</th>\n",
       "      <td>0.696926</td>\n",
       "      <td>0.377390</td>\n",
       "      <td>-1.553768</td>\n",
       "      <td>0.291692</td>\n",
       "    </tr>\n",
       "    <tr>\n",
       "      <th>2022-12-31</th>\n",
       "      <td>0.974452</td>\n",
       "      <td>1.041595</td>\n",
       "      <td>1.582583</td>\n",
       "      <td>-0.393454</td>\n",
       "    </tr>\n",
       "    <tr>\n",
       "      <th>2023-01-01</th>\n",
       "      <td>1.681851</td>\n",
       "      <td>-1.058204</td>\n",
       "      <td>-1.895154</td>\n",
       "      <td>1.084135</td>\n",
       "    </tr>\n",
       "    <tr>\n",
       "      <th>2023-01-02</th>\n",
       "      <td>0.901713</td>\n",
       "      <td>0.551572</td>\n",
       "      <td>0.021163</td>\n",
       "      <td>0.786812</td>\n",
       "    </tr>\n",
       "    <tr>\n",
       "      <th>2023-01-03</th>\n",
       "      <td>0.215906</td>\n",
       "      <td>0.824606</td>\n",
       "      <td>2.044637</td>\n",
       "      <td>0.336442</td>\n",
       "    </tr>\n",
       "    <tr>\n",
       "      <th>2023-01-04</th>\n",
       "      <td>-1.049499</td>\n",
       "      <td>0.666806</td>\n",
       "      <td>-1.291899</td>\n",
       "      <td>1.364651</td>\n",
       "    </tr>\n",
       "  </tbody>\n",
       "</table>\n",
       "</div>"
      ],
      "text/plain": [
       "                   A         B         C         D\n",
       "Dates                                             \n",
       "2022-12-30  0.696926  0.377390 -1.553768  0.291692\n",
       "2022-12-31  0.974452  1.041595  1.582583 -0.393454\n",
       "2023-01-01  1.681851 -1.058204 -1.895154  1.084135\n",
       "2023-01-02  0.901713  0.551572  0.021163  0.786812\n",
       "2023-01-03  0.215906  0.824606  2.044637  0.336442\n",
       "2023-01-04 -1.049499  0.666806 -1.291899  1.364651"
      ]
     },
     "execution_count": 9,
     "metadata": {},
     "output_type": "execute_result"
    }
   ],
   "source": [
    "df = pd.DataFrame(m, index=dates, columns=list('ABCD'))\n",
    "df.index.name = 'Dates'\n",
    "df"
   ]
  },
  {
   "cell_type": "code",
   "execution_count": 10,
   "metadata": {},
   "outputs": [
    {
     "data": {
      "text/html": [
       "<div>\n",
       "<style scoped>\n",
       "    .dataframe tbody tr th:only-of-type {\n",
       "        vertical-align: middle;\n",
       "    }\n",
       "\n",
       "    .dataframe tbody tr th {\n",
       "        vertical-align: top;\n",
       "    }\n",
       "\n",
       "    .dataframe thead th {\n",
       "        text-align: right;\n",
       "    }\n",
       "</style>\n",
       "<table border=\"1\" class=\"dataframe\">\n",
       "  <thead>\n",
       "    <tr style=\"text-align: right;\">\n",
       "      <th></th>\n",
       "      <th>A</th>\n",
       "      <th>B</th>\n",
       "      <th>C</th>\n",
       "      <th>D</th>\n",
       "    </tr>\n",
       "    <tr>\n",
       "      <th>Dates</th>\n",
       "      <th></th>\n",
       "      <th></th>\n",
       "      <th></th>\n",
       "      <th></th>\n",
       "    </tr>\n",
       "  </thead>\n",
       "  <tbody>\n",
       "    <tr>\n",
       "      <th>2022-12-30</th>\n",
       "      <td>0.696926</td>\n",
       "      <td>0.377390</td>\n",
       "      <td>-1.553768</td>\n",
       "      <td>0.291692</td>\n",
       "    </tr>\n",
       "    <tr>\n",
       "      <th>2022-12-31</th>\n",
       "      <td>0.974452</td>\n",
       "      <td>1.041595</td>\n",
       "      <td>1.582583</td>\n",
       "      <td>-0.393454</td>\n",
       "    </tr>\n",
       "    <tr>\n",
       "      <th>2023-01-01</th>\n",
       "      <td>1.681851</td>\n",
       "      <td>-1.058204</td>\n",
       "      <td>-1.895154</td>\n",
       "      <td>1.084135</td>\n",
       "    </tr>\n",
       "    <tr>\n",
       "      <th>2023-01-02</th>\n",
       "      <td>0.901713</td>\n",
       "      <td>0.551572</td>\n",
       "      <td>0.021163</td>\n",
       "      <td>0.786812</td>\n",
       "    </tr>\n",
       "    <tr>\n",
       "      <th>2023-01-03</th>\n",
       "      <td>0.215906</td>\n",
       "      <td>0.824606</td>\n",
       "      <td>2.044637</td>\n",
       "      <td>0.336442</td>\n",
       "    </tr>\n",
       "    <tr>\n",
       "      <th>2023-01-04</th>\n",
       "      <td>-1.049499</td>\n",
       "      <td>0.666806</td>\n",
       "      <td>-1.291899</td>\n",
       "      <td>1.364651</td>\n",
       "    </tr>\n",
       "  </tbody>\n",
       "</table>\n",
       "</div>"
      ],
      "text/plain": [
       "                   A         B         C         D\n",
       "Dates                                             \n",
       "2022-12-30  0.696926  0.377390 -1.553768  0.291692\n",
       "2022-12-31  0.974452  1.041595  1.582583 -0.393454\n",
       "2023-01-01  1.681851 -1.058204 -1.895154  1.084135\n",
       "2023-01-02  0.901713  0.551572  0.021163  0.786812\n",
       "2023-01-03  0.215906  0.824606  2.044637  0.336442\n",
       "2023-01-04 -1.049499  0.666806 -1.291899  1.364651"
      ]
     },
     "metadata": {},
     "output_type": "display_data"
    },
    {
     "data": {
      "text/html": [
       "<div>\n",
       "<style scoped>\n",
       "    .dataframe tbody tr th:only-of-type {\n",
       "        vertical-align: middle;\n",
       "    }\n",
       "\n",
       "    .dataframe tbody tr th {\n",
       "        vertical-align: top;\n",
       "    }\n",
       "\n",
       "    .dataframe thead th {\n",
       "        text-align: right;\n",
       "    }\n",
       "</style>\n",
       "<table border=\"1\" class=\"dataframe\">\n",
       "  <thead>\n",
       "    <tr style=\"text-align: right;\">\n",
       "      <th></th>\n",
       "      <th>A</th>\n",
       "      <th>B</th>\n",
       "      <th>C</th>\n",
       "      <th>D</th>\n",
       "    </tr>\n",
       "    <tr>\n",
       "      <th>Dates</th>\n",
       "      <th></th>\n",
       "      <th></th>\n",
       "      <th></th>\n",
       "      <th></th>\n",
       "    </tr>\n",
       "  </thead>\n",
       "  <tbody>\n",
       "    <tr>\n",
       "      <th>2023-01-02</th>\n",
       "      <td>0.901713</td>\n",
       "      <td>0.551572</td>\n",
       "      <td>0.021163</td>\n",
       "      <td>0.786812</td>\n",
       "    </tr>\n",
       "    <tr>\n",
       "      <th>2023-01-03</th>\n",
       "      <td>0.215906</td>\n",
       "      <td>0.824606</td>\n",
       "      <td>2.044637</td>\n",
       "      <td>0.336442</td>\n",
       "    </tr>\n",
       "    <tr>\n",
       "      <th>2023-01-04</th>\n",
       "      <td>-1.049499</td>\n",
       "      <td>0.666806</td>\n",
       "      <td>-1.291899</td>\n",
       "      <td>1.364651</td>\n",
       "    </tr>\n",
       "  </tbody>\n",
       "</table>\n",
       "</div>"
      ],
      "text/plain": [
       "                   A         B         C         D\n",
       "Dates                                             \n",
       "2023-01-02  0.901713  0.551572  0.021163  0.786812\n",
       "2023-01-03  0.215906  0.824606  2.044637  0.336442\n",
       "2023-01-04 -1.049499  0.666806 -1.291899  1.364651"
      ]
     },
     "metadata": {},
     "output_type": "display_data"
    }
   ],
   "source": [
    "display(df)\n",
    "display(df.tail(3))"
   ]
  },
  {
   "cell_type": "code",
   "execution_count": 11,
   "metadata": {},
   "outputs": [
    {
     "data": {
      "text/html": [
       "<div>\n",
       "<style scoped>\n",
       "    .dataframe tbody tr th:only-of-type {\n",
       "        vertical-align: middle;\n",
       "    }\n",
       "\n",
       "    .dataframe tbody tr th {\n",
       "        vertical-align: top;\n",
       "    }\n",
       "\n",
       "    .dataframe thead th {\n",
       "        text-align: right;\n",
       "    }\n",
       "</style>\n",
       "<table border=\"1\" class=\"dataframe\">\n",
       "  <thead>\n",
       "    <tr style=\"text-align: right;\">\n",
       "      <th></th>\n",
       "      <th>A</th>\n",
       "      <th>B</th>\n",
       "      <th>C</th>\n",
       "      <th>D</th>\n",
       "    </tr>\n",
       "    <tr>\n",
       "      <th>Dates</th>\n",
       "      <th></th>\n",
       "      <th></th>\n",
       "      <th></th>\n",
       "      <th></th>\n",
       "    </tr>\n",
       "  </thead>\n",
       "  <tbody>\n",
       "    <tr>\n",
       "      <th>2023-01-02</th>\n",
       "      <td>0.901713</td>\n",
       "      <td>0.551572</td>\n",
       "      <td>0.021163</td>\n",
       "      <td>0.786812</td>\n",
       "    </tr>\n",
       "    <tr>\n",
       "      <th>2023-01-04</th>\n",
       "      <td>-1.049499</td>\n",
       "      <td>0.666806</td>\n",
       "      <td>-1.291899</td>\n",
       "      <td>1.364651</td>\n",
       "    </tr>\n",
       "    <tr>\n",
       "      <th>2022-12-31</th>\n",
       "      <td>0.974452</td>\n",
       "      <td>1.041595</td>\n",
       "      <td>1.582583</td>\n",
       "      <td>-0.393454</td>\n",
       "    </tr>\n",
       "    <tr>\n",
       "      <th>2022-12-30</th>\n",
       "      <td>0.696926</td>\n",
       "      <td>0.377390</td>\n",
       "      <td>-1.553768</td>\n",
       "      <td>0.291692</td>\n",
       "    </tr>\n",
       "    <tr>\n",
       "      <th>2023-01-01</th>\n",
       "      <td>1.681851</td>\n",
       "      <td>-1.058204</td>\n",
       "      <td>-1.895154</td>\n",
       "      <td>1.084135</td>\n",
       "    </tr>\n",
       "  </tbody>\n",
       "</table>\n",
       "</div>"
      ],
      "text/plain": [
       "                   A         B         C         D\n",
       "Dates                                             \n",
       "2023-01-02  0.901713  0.551572  0.021163  0.786812\n",
       "2023-01-04 -1.049499  0.666806 -1.291899  1.364651\n",
       "2022-12-31  0.974452  1.041595  1.582583 -0.393454\n",
       "2022-12-30  0.696926  0.377390 -1.553768  0.291692\n",
       "2023-01-01  1.681851 -1.058204 -1.895154  1.084135"
      ]
     },
     "execution_count": 11,
     "metadata": {},
     "output_type": "execute_result"
    }
   ],
   "source": [
    "df.sample(5)"
   ]
  },
  {
   "cell_type": "code",
   "execution_count": 12,
   "metadata": {},
   "outputs": [
    {
     "data": {
      "text/plain": [
       "Dates\n",
       "2022-12-30    0.696926\n",
       "2022-12-31    0.974452\n",
       "2023-01-01    1.681851\n",
       "2023-01-02    0.901713\n",
       "2023-01-03    0.215906\n",
       "2023-01-04   -1.049499\n",
       "Freq: D, Name: A, dtype: float64"
      ]
     },
     "execution_count": 12,
     "metadata": {},
     "output_type": "execute_result"
    }
   ],
   "source": [
    "df['A']"
   ]
  },
  {
   "cell_type": "code",
   "execution_count": 13,
   "metadata": {},
   "outputs": [
    {
     "data": {
      "text/plain": [
       "Dates\n",
       "2022-12-30    0.696926\n",
       "2022-12-31    0.974452\n",
       "2023-01-01    1.681851\n",
       "2023-01-02    0.901713\n",
       "2023-01-03    0.215906\n",
       "2023-01-04   -1.049499\n",
       "Freq: D, Name: A, dtype: float64"
      ]
     },
     "execution_count": 13,
     "metadata": {},
     "output_type": "execute_result"
    }
   ],
   "source": [
    "df.A"
   ]
  },
  {
   "cell_type": "code",
   "execution_count": 14,
   "metadata": {},
   "outputs": [
    {
     "data": {
      "text/plain": [
       "array([ 0.6969258 ,  0.97445242,  1.68185074,  0.90171298,  0.21590553,\n",
       "       -1.0494994 ])"
      ]
     },
     "execution_count": 14,
     "metadata": {},
     "output_type": "execute_result"
    }
   ],
   "source": [
    "df.A.values"
   ]
  },
  {
   "cell_type": "code",
   "execution_count": 15,
   "metadata": {},
   "outputs": [
    {
     "data": {
      "text/plain": [
       "array([[ 0.6969258 ,  0.37739045, -1.5537682 ,  0.29169177],\n",
       "       [ 0.97445242,  1.04159483,  1.58258275, -0.39345371],\n",
       "       [ 1.68185074, -1.05820368, -1.8951535 ,  1.0841347 ],\n",
       "       [ 0.90171298,  0.55157238,  0.02116289,  0.78681239],\n",
       "       [ 0.21590553,  0.82460587,  2.04463651,  0.33644233],\n",
       "       [-1.0494994 ,  0.6668064 , -1.29189933,  1.36465103]])"
      ]
     },
     "execution_count": 15,
     "metadata": {},
     "output_type": "execute_result"
    }
   ],
   "source": [
    "df.values"
   ]
  },
  {
   "cell_type": "code",
   "execution_count": 16,
   "metadata": {},
   "outputs": [
    {
     "data": {
      "text/plain": [
       "Index(['A', 'B', 'C', 'D'], dtype='object')"
      ]
     },
     "execution_count": 16,
     "metadata": {},
     "output_type": "execute_result"
    }
   ],
   "source": [
    "df.columns"
   ]
  },
  {
   "cell_type": "code",
   "execution_count": 17,
   "metadata": {},
   "outputs": [
    {
     "name": "stdout",
     "output_type": "stream",
     "text": [
      "A [ 0.6969258   0.97445242  1.68185074  0.90171298  0.21590553 -1.0494994 ]\n",
      "B [ 0.37739045  1.04159483 -1.05820368  0.55157238  0.82460587  0.6668064 ]\n",
      "C [-1.5537682   1.58258275 -1.8951535   0.02116289  2.04463651 -1.29189933]\n",
      "D [ 0.29169177 -0.39345371  1.0841347   0.78681239  0.33644233  1.36465103]\n"
     ]
    }
   ],
   "source": [
    "for k in df.columns:\n",
    "    print (k, df[k].values)"
   ]
  },
  {
   "cell_type": "code",
   "execution_count": 18,
   "metadata": {
    "scrolled": false
   },
   "outputs": [
    {
     "data": {
      "image/png": "[encoded data removed]",
      "text/plain": [
       "<Figure size 640x480 with 1 Axes>"
      ]
     },
     "metadata": {},
     "output_type": "display_data"
    }
   ],
   "source": [
    "df.plot();"
   ]
  },
  {
   "cell_type": "code",
   "execution_count": 19,
   "metadata": {},
   "outputs": [
    {
     "name": "stdout",
     "output_type": "stream",
     "text": [
      "A      float64\n",
      "B      float64\n",
      "C      float64\n",
      "D      float64\n",
      "new      int32\n",
      "dtype: object\n"
     ]
    },
    {
     "data": {
      "text/html": [
       "<div>\n",
       "<style scoped>\n",
       "    .dataframe tbody tr th:only-of-type {\n",
       "        vertical-align: middle;\n",
       "    }\n",
       "\n",
       "    .dataframe tbody tr th {\n",
       "        vertical-align: top;\n",
       "    }\n",
       "\n",
       "    .dataframe thead th {\n",
       "        text-align: right;\n",
       "    }\n",
       "</style>\n",
       "<table border=\"1\" class=\"dataframe\">\n",
       "  <thead>\n",
       "    <tr style=\"text-align: right;\">\n",
       "      <th></th>\n",
       "      <th>A</th>\n",
       "      <th>B</th>\n",
       "      <th>C</th>\n",
       "      <th>D</th>\n",
       "      <th>new</th>\n",
       "    </tr>\n",
       "    <tr>\n",
       "      <th>Dates</th>\n",
       "      <th></th>\n",
       "      <th></th>\n",
       "      <th></th>\n",
       "      <th></th>\n",
       "      <th></th>\n",
       "    </tr>\n",
       "  </thead>\n",
       "  <tbody>\n",
       "    <tr>\n",
       "      <th>2022-12-30</th>\n",
       "      <td>0.696926</td>\n",
       "      <td>0.377390</td>\n",
       "      <td>-1.553768</td>\n",
       "      <td>0.291692</td>\n",
       "      <td>5</td>\n",
       "    </tr>\n",
       "    <tr>\n",
       "      <th>2022-12-31</th>\n",
       "      <td>0.974452</td>\n",
       "      <td>1.041595</td>\n",
       "      <td>1.582583</td>\n",
       "      <td>-0.393454</td>\n",
       "      <td>5</td>\n",
       "    </tr>\n",
       "    <tr>\n",
       "      <th>2023-01-01</th>\n",
       "      <td>1.681851</td>\n",
       "      <td>-1.058204</td>\n",
       "      <td>-1.895154</td>\n",
       "      <td>1.084135</td>\n",
       "      <td>5</td>\n",
       "    </tr>\n",
       "    <tr>\n",
       "      <th>2023-01-02</th>\n",
       "      <td>0.901713</td>\n",
       "      <td>0.551572</td>\n",
       "      <td>0.021163</td>\n",
       "      <td>0.786812</td>\n",
       "      <td>5</td>\n",
       "    </tr>\n",
       "    <tr>\n",
       "      <th>2023-01-03</th>\n",
       "      <td>0.215906</td>\n",
       "      <td>0.824606</td>\n",
       "      <td>2.044637</td>\n",
       "      <td>0.336442</td>\n",
       "      <td>5</td>\n",
       "    </tr>\n",
       "    <tr>\n",
       "      <th>2023-01-04</th>\n",
       "      <td>-1.049499</td>\n",
       "      <td>0.666806</td>\n",
       "      <td>-1.291899</td>\n",
       "      <td>1.364651</td>\n",
       "      <td>5</td>\n",
       "    </tr>\n",
       "  </tbody>\n",
       "</table>\n",
       "</div>"
      ],
      "text/plain": [
       "                   A         B         C         D  new\n",
       "Dates                                                  \n",
       "2022-12-30  0.696926  0.377390 -1.553768  0.291692    5\n",
       "2022-12-31  0.974452  1.041595  1.582583 -0.393454    5\n",
       "2023-01-01  1.681851 -1.058204 -1.895154  1.084135    5\n",
       "2023-01-02  0.901713  0.551572  0.021163  0.786812    5\n",
       "2023-01-03  0.215906  0.824606  2.044637  0.336442    5\n",
       "2023-01-04 -1.049499  0.666806 -1.291899  1.364651    5"
      ]
     },
     "execution_count": 19,
     "metadata": {},
     "output_type": "execute_result"
    }
   ],
   "source": [
    "df['new'] = 5 * np.ones(len(df), dtype=np.int32)\n",
    "print (df.dtypes)\n",
    "df"
   ]
  },
  {
   "cell_type": "code",
   "execution_count": 20,
   "metadata": {},
   "outputs": [],
   "source": [
    "df['new'] = df.A.map(lambda x: 5*x)"
   ]
  },
  {
   "cell_type": "code",
   "execution_count": 21,
   "metadata": {},
   "outputs": [
    {
     "data": {
      "text/html": [
       "<div>\n",
       "<style scoped>\n",
       "    .dataframe tbody tr th:only-of-type {\n",
       "        vertical-align: middle;\n",
       "    }\n",
       "\n",
       "    .dataframe tbody tr th {\n",
       "        vertical-align: top;\n",
       "    }\n",
       "\n",
       "    .dataframe thead th {\n",
       "        text-align: right;\n",
       "    }\n",
       "</style>\n",
       "<table border=\"1\" class=\"dataframe\">\n",
       "  <thead>\n",
       "    <tr style=\"text-align: right;\">\n",
       "      <th></th>\n",
       "      <th>A</th>\n",
       "      <th>B</th>\n",
       "      <th>C</th>\n",
       "      <th>D</th>\n",
       "      <th>new</th>\n",
       "    </tr>\n",
       "    <tr>\n",
       "      <th>Dates</th>\n",
       "      <th></th>\n",
       "      <th></th>\n",
       "      <th></th>\n",
       "      <th></th>\n",
       "      <th></th>\n",
       "    </tr>\n",
       "  </thead>\n",
       "  <tbody>\n",
       "    <tr>\n",
       "      <th>2022-12-30</th>\n",
       "      <td>0.696926</td>\n",
       "      <td>0.377390</td>\n",
       "      <td>-1.553768</td>\n",
       "      <td>0.291692</td>\n",
       "      <td>3.484629</td>\n",
       "    </tr>\n",
       "    <tr>\n",
       "      <th>2022-12-31</th>\n",
       "      <td>0.974452</td>\n",
       "      <td>1.041595</td>\n",
       "      <td>1.582583</td>\n",
       "      <td>-0.393454</td>\n",
       "      <td>4.872262</td>\n",
       "    </tr>\n",
       "    <tr>\n",
       "      <th>2023-01-01</th>\n",
       "      <td>1.681851</td>\n",
       "      <td>-1.058204</td>\n",
       "      <td>-1.895154</td>\n",
       "      <td>1.084135</td>\n",
       "      <td>8.409254</td>\n",
       "    </tr>\n",
       "    <tr>\n",
       "      <th>2023-01-02</th>\n",
       "      <td>0.901713</td>\n",
       "      <td>0.551572</td>\n",
       "      <td>0.021163</td>\n",
       "      <td>0.786812</td>\n",
       "      <td>4.508565</td>\n",
       "    </tr>\n",
       "    <tr>\n",
       "      <th>2023-01-03</th>\n",
       "      <td>0.215906</td>\n",
       "      <td>0.824606</td>\n",
       "      <td>2.044637</td>\n",
       "      <td>0.336442</td>\n",
       "      <td>1.079528</td>\n",
       "    </tr>\n",
       "    <tr>\n",
       "      <th>2023-01-04</th>\n",
       "      <td>-1.049499</td>\n",
       "      <td>0.666806</td>\n",
       "      <td>-1.291899</td>\n",
       "      <td>1.364651</td>\n",
       "      <td>-5.247497</td>\n",
       "    </tr>\n",
       "  </tbody>\n",
       "</table>\n",
       "</div>"
      ],
      "text/plain": [
       "                   A         B         C         D       new\n",
       "Dates                                                       \n",
       "2022-12-30  0.696926  0.377390 -1.553768  0.291692  3.484629\n",
       "2022-12-31  0.974452  1.041595  1.582583 -0.393454  4.872262\n",
       "2023-01-01  1.681851 -1.058204 -1.895154  1.084135  8.409254\n",
       "2023-01-02  0.901713  0.551572  0.021163  0.786812  4.508565\n",
       "2023-01-03  0.215906  0.824606  2.044637  0.336442  1.079528\n",
       "2023-01-04 -1.049499  0.666806 -1.291899  1.364651 -5.247497"
      ]
     },
     "execution_count": 21,
     "metadata": {},
     "output_type": "execute_result"
    }
   ],
   "source": [
    "df"
   ]
  },
  {
   "cell_type": "code",
   "execution_count": 22,
   "metadata": {},
   "outputs": [
    {
     "data": {
      "image/png": "[encoded data removed]",
      "text/plain": [
       "<Figure size 640x480 with 1 Axes>"
      ]
     },
     "metadata": {},
     "output_type": "display_data"
    }
   ],
   "source": [
    "df.A.plot();\n",
    "df['B'].plot(alpha=0.3);"
   ]
  },
  {
   "cell_type": "code",
   "execution_count": 23,
   "metadata": {},
   "outputs": [
    {
     "data": {
      "text/plain": [
       "<matplotlib.collections.PathCollection at 0x27063848a90>"
      ]
     },
     "execution_count": 23,
     "metadata": {},
     "output_type": "execute_result"
    },
    {
     "data": {
      "image/png": "[encoded data removed]",
      "text/plain": [
       "<Figure size 640x480 with 1 Axes>"
      ]
     },
     "metadata": {},
     "output_type": "display_data"
    }
   ],
   "source": [
    "plt.scatter(df.A, df.new)"
   ]
  },
  {
   "cell_type": "markdown",
   "metadata": {},
   "source": [
    "## Data in Files\n",
    "\n",
    "- Comma Separated Value (CSV) "
   ]
  },
  {
   "cell_type": "code",
   "execution_count": 24,
   "metadata": {},
   "outputs": [],
   "source": [
    "# save the dataframe\n",
    "df.to_csv('random.csv')"
   ]
  },
  {
   "cell_type": "code",
   "execution_count": 25,
   "metadata": {},
   "outputs": [
    {
     "data": {
      "text/html": [
       "<div>\n",
       "<style scoped>\n",
       "    .dataframe tbody tr th:only-of-type {\n",
       "        vertical-align: middle;\n",
       "    }\n",
       "\n",
       "    .dataframe tbody tr th {\n",
       "        vertical-align: top;\n",
       "    }\n",
       "\n",
       "    .dataframe thead th {\n",
       "        text-align: right;\n",
       "    }\n",
       "</style>\n",
       "<table border=\"1\" class=\"dataframe\">\n",
       "  <thead>\n",
       "    <tr style=\"text-align: right;\">\n",
       "      <th></th>\n",
       "      <th>Dates</th>\n",
       "      <th>A</th>\n",
       "      <th>B</th>\n",
       "      <th>C</th>\n",
       "      <th>D</th>\n",
       "      <th>new</th>\n",
       "    </tr>\n",
       "  </thead>\n",
       "  <tbody>\n",
       "    <tr>\n",
       "      <th>0</th>\n",
       "      <td>2022-12-30</td>\n",
       "      <td>0.696926</td>\n",
       "      <td>0.377390</td>\n",
       "      <td>-1.553768</td>\n",
       "      <td>0.291692</td>\n",
       "      <td>3.484629</td>\n",
       "    </tr>\n",
       "    <tr>\n",
       "      <th>1</th>\n",
       "      <td>2022-12-31</td>\n",
       "      <td>0.974452</td>\n",
       "      <td>1.041595</td>\n",
       "      <td>1.582583</td>\n",
       "      <td>-0.393454</td>\n",
       "      <td>4.872262</td>\n",
       "    </tr>\n",
       "    <tr>\n",
       "      <th>2</th>\n",
       "      <td>2023-01-01</td>\n",
       "      <td>1.681851</td>\n",
       "      <td>-1.058204</td>\n",
       "      <td>-1.895154</td>\n",
       "      <td>1.084135</td>\n",
       "      <td>8.409254</td>\n",
       "    </tr>\n",
       "    <tr>\n",
       "      <th>3</th>\n",
       "      <td>2023-01-02</td>\n",
       "      <td>0.901713</td>\n",
       "      <td>0.551572</td>\n",
       "      <td>0.021163</td>\n",
       "      <td>0.786812</td>\n",
       "      <td>4.508565</td>\n",
       "    </tr>\n",
       "    <tr>\n",
       "      <th>4</th>\n",
       "      <td>2023-01-03</td>\n",
       "      <td>0.215906</td>\n",
       "      <td>0.824606</td>\n",
       "      <td>2.044637</td>\n",
       "      <td>0.336442</td>\n",
       "      <td>1.079528</td>\n",
       "    </tr>\n",
       "    <tr>\n",
       "      <th>5</th>\n",
       "      <td>2023-01-04</td>\n",
       "      <td>-1.049499</td>\n",
       "      <td>0.666806</td>\n",
       "      <td>-1.291899</td>\n",
       "      <td>1.364651</td>\n",
       "      <td>-5.247497</td>\n",
       "    </tr>\n",
       "  </tbody>\n",
       "</table>\n",
       "</div>"
      ],
      "text/plain": [
       "        Dates         A         B         C         D       new\n",
       "0  2022-12-30  0.696926  0.377390 -1.553768  0.291692  3.484629\n",
       "1  2022-12-31  0.974452  1.041595  1.582583 -0.393454  4.872262\n",
       "2  2023-01-01  1.681851 -1.058204 -1.895154  1.084135  8.409254\n",
       "3  2023-01-02  0.901713  0.551572  0.021163  0.786812  4.508565\n",
       "4  2023-01-03  0.215906  0.824606  2.044637  0.336442  1.079528\n",
       "5  2023-01-04 -1.049499  0.666806 -1.291899  1.364651 -5.247497"
      ]
     },
     "execution_count": 25,
     "metadata": {},
     "output_type": "execute_result"
    }
   ],
   "source": [
    "pd.read_csv('random.csv')"
   ]
  },
  {
   "cell_type": "code",
   "execution_count": 26,
   "metadata": {},
   "outputs": [
    {
     "data": {
      "text/html": [
       "<div>\n",
       "<style scoped>\n",
       "    .dataframe tbody tr th:only-of-type {\n",
       "        vertical-align: middle;\n",
       "    }\n",
       "\n",
       "    .dataframe tbody tr th {\n",
       "        vertical-align: top;\n",
       "    }\n",
       "\n",
       "    .dataframe thead th {\n",
       "        text-align: right;\n",
       "    }\n",
       "</style>\n",
       "<table border=\"1\" class=\"dataframe\">\n",
       "  <thead>\n",
       "    <tr style=\"text-align: right;\">\n",
       "      <th></th>\n",
       "      <th>A</th>\n",
       "      <th>B</th>\n",
       "      <th>C</th>\n",
       "      <th>D</th>\n",
       "      <th>new</th>\n",
       "    </tr>\n",
       "    <tr>\n",
       "      <th>Dates</th>\n",
       "      <th></th>\n",
       "      <th></th>\n",
       "      <th></th>\n",
       "      <th></th>\n",
       "      <th></th>\n",
       "    </tr>\n",
       "  </thead>\n",
       "  <tbody>\n",
       "    <tr>\n",
       "      <th>2022-12-30</th>\n",
       "      <td>0.696926</td>\n",
       "      <td>0.377390</td>\n",
       "      <td>-1.553768</td>\n",
       "      <td>0.291692</td>\n",
       "      <td>3.484629</td>\n",
       "    </tr>\n",
       "    <tr>\n",
       "      <th>2022-12-31</th>\n",
       "      <td>0.974452</td>\n",
       "      <td>1.041595</td>\n",
       "      <td>1.582583</td>\n",
       "      <td>-0.393454</td>\n",
       "      <td>4.872262</td>\n",
       "    </tr>\n",
       "    <tr>\n",
       "      <th>2023-01-01</th>\n",
       "      <td>1.681851</td>\n",
       "      <td>-1.058204</td>\n",
       "      <td>-1.895154</td>\n",
       "      <td>1.084135</td>\n",
       "      <td>8.409254</td>\n",
       "    </tr>\n",
       "    <tr>\n",
       "      <th>2023-01-02</th>\n",
       "      <td>0.901713</td>\n",
       "      <td>0.551572</td>\n",
       "      <td>0.021163</td>\n",
       "      <td>0.786812</td>\n",
       "      <td>4.508565</td>\n",
       "    </tr>\n",
       "    <tr>\n",
       "      <th>2023-01-03</th>\n",
       "      <td>0.215906</td>\n",
       "      <td>0.824606</td>\n",
       "      <td>2.044637</td>\n",
       "      <td>0.336442</td>\n",
       "      <td>1.079528</td>\n",
       "    </tr>\n",
       "    <tr>\n",
       "      <th>2023-01-04</th>\n",
       "      <td>-1.049499</td>\n",
       "      <td>0.666806</td>\n",
       "      <td>-1.291899</td>\n",
       "      <td>1.364651</td>\n",
       "      <td>-5.247497</td>\n",
       "    </tr>\n",
       "  </tbody>\n",
       "</table>\n",
       "</div>"
      ],
      "text/plain": [
       "                   A         B         C         D       new\n",
       "Dates                                                       \n",
       "2022-12-30  0.696926  0.377390 -1.553768  0.291692  3.484629\n",
       "2022-12-31  0.974452  1.041595  1.582583 -0.393454  4.872262\n",
       "2023-01-01  1.681851 -1.058204 -1.895154  1.084135  8.409254\n",
       "2023-01-02  0.901713  0.551572  0.021163  0.786812  4.508565\n",
       "2023-01-03  0.215906  0.824606  2.044637  0.336442  1.079528\n",
       "2023-01-04 -1.049499  0.666806 -1.291899  1.364651 -5.247497"
      ]
     },
     "execution_count": 26,
     "metadata": {},
     "output_type": "execute_result"
    }
   ],
   "source": [
    "# load into new\n",
    "ndf = pd.read_csv('random.csv', index_col='Dates')\n",
    "ndf"
   ]
  },
  {
   "cell_type": "markdown",
   "metadata": {},
   "source": [
    "### Create a file in Excel\n",
    "\n",
    "\n",
    "- Save it as a csv in Excel\n"
   ]
  },
  {
   "cell_type": "code",
   "execution_count": 27,
   "metadata": {},
   "outputs": [
    {
     "data": {
      "text/html": [
       "<div>\n",
       "<style scoped>\n",
       "    .dataframe tbody tr th:only-of-type {\n",
       "        vertical-align: middle;\n",
       "    }\n",
       "\n",
       "    .dataframe tbody tr th {\n",
       "        vertical-align: top;\n",
       "    }\n",
       "\n",
       "    .dataframe thead th {\n",
       "        text-align: right;\n",
       "    }\n",
       "</style>\n",
       "<table border=\"1\" class=\"dataframe\">\n",
       "  <thead>\n",
       "    <tr style=\"text-align: right;\">\n",
       "      <th></th>\n",
       "      <th>X</th>\n",
       "      <th>Y</th>\n",
       "    </tr>\n",
       "  </thead>\n",
       "  <tbody>\n",
       "    <tr>\n",
       "      <th>0</th>\n",
       "      <td>0</td>\n",
       "      <td>0.000000</td>\n",
       "    </tr>\n",
       "    <tr>\n",
       "      <th>1</th>\n",
       "      <td>1</td>\n",
       "      <td>0.841471</td>\n",
       "    </tr>\n",
       "    <tr>\n",
       "      <th>2</th>\n",
       "      <td>2</td>\n",
       "      <td>0.909297</td>\n",
       "    </tr>\n",
       "    <tr>\n",
       "      <th>3</th>\n",
       "      <td>3</td>\n",
       "      <td>0.141120</td>\n",
       "    </tr>\n",
       "    <tr>\n",
       "      <th>4</th>\n",
       "      <td>4</td>\n",
       "      <td>-0.756802</td>\n",
       "    </tr>\n",
       "    <tr>\n",
       "      <th>5</th>\n",
       "      <td>5</td>\n",
       "      <td>-0.958924</td>\n",
       "    </tr>\n",
       "    <tr>\n",
       "      <th>6</th>\n",
       "      <td>6</td>\n",
       "      <td>-0.279415</td>\n",
       "    </tr>\n",
       "    <tr>\n",
       "      <th>7</th>\n",
       "      <td>7</td>\n",
       "      <td>0.656987</td>\n",
       "    </tr>\n",
       "    <tr>\n",
       "      <th>8</th>\n",
       "      <td>8</td>\n",
       "      <td>0.989358</td>\n",
       "    </tr>\n",
       "    <tr>\n",
       "      <th>9</th>\n",
       "      <td>9</td>\n",
       "      <td>0.412118</td>\n",
       "    </tr>\n",
       "    <tr>\n",
       "      <th>10</th>\n",
       "      <td>10</td>\n",
       "      <td>-0.544021</td>\n",
       "    </tr>\n",
       "    <tr>\n",
       "      <th>11</th>\n",
       "      <td>11</td>\n",
       "      <td>-0.999990</td>\n",
       "    </tr>\n",
       "    <tr>\n",
       "      <th>12</th>\n",
       "      <td>12</td>\n",
       "      <td>-0.536573</td>\n",
       "    </tr>\n",
       "    <tr>\n",
       "      <th>13</th>\n",
       "      <td>13</td>\n",
       "      <td>0.420167</td>\n",
       "    </tr>\n",
       "  </tbody>\n",
       "</table>\n",
       "</div>"
      ],
      "text/plain": [
       "     X         Y\n",
       "0    0  0.000000\n",
       "1    1  0.841471\n",
       "2    2  0.909297\n",
       "3    3  0.141120\n",
       "4    4 -0.756802\n",
       "5    5 -0.958924\n",
       "6    6 -0.279415\n",
       "7    7  0.656987\n",
       "8    8  0.989358\n",
       "9    9  0.412118\n",
       "10  10 -0.544021\n",
       "11  11 -0.999990\n",
       "12  12 -0.536573\n",
       "13  13  0.420167"
      ]
     },
     "execution_count": 27,
     "metadata": {},
     "output_type": "execute_result"
    },
    {
     "data": {
      "image/png": "[encoded data removed]",
      "text/plain": [
       "<Figure size 640x480 with 1 Axes>"
      ]
     },
     "metadata": {},
     "output_type": "display_data"
    }
   ],
   "source": [
    "# load file and plot it\n",
    "df = pd.read_csv('Book1.csv')\n",
    "plt.plot(df.X, df.Y, '.r-');\n",
    "df"
   ]
  },
  {
   "cell_type": "code",
   "execution_count": 28,
   "metadata": {},
   "outputs": [
    {
     "data": {
      "text/plain": [
       "<Axes: xlabel='X'>"
      ]
     },
     "execution_count": 28,
     "metadata": {},
     "output_type": "execute_result"
    },
    {
     "data": {
      "image/png": "[encoded data removed]",
      "text/plain": [
       "<Figure size 640x480 with 1 Axes>"
      ]
     },
     "metadata": {},
     "output_type": "display_data"
    }
   ],
   "source": [
    "# load file and plot it\n",
    "df = pd.read_csv('Book1.csv', index_col='X')\n",
    "df.plot()"
   ]
  },
  {
   "cell_type": "code",
   "execution_count": 29,
   "metadata": {},
   "outputs": [
    {
     "data": {
      "text/plain": [
       "<Axes: xlabel='X'>"
      ]
     },
     "execution_count": 29,
     "metadata": {},
     "output_type": "execute_result"
    },
    {
     "data": {
      "image/png": "[encoded data removed]",
      "text/plain": [
       "<Figure size 640x480 with 1 Axes>"
      ]
     },
     "metadata": {},
     "output_type": "display_data"
    }
   ],
   "source": [
    "df.Y.plot()"
   ]
  },
  {
   "cell_type": "markdown",
   "metadata": {},
   "source": [
    "### Modules\n",
    "\n",
    "- Computation\n",
    "\n",
    "> [numpy](http://www.numpy.org/): arrays, vectorized functions, ...\n",
    "><br/>\n",
    "> [scipy](http://www.scipy.org/): stats, solvers, ...\n",
    "><br/>\n",
    "> [sklearn](http://scikit-learn.org/stable/index.html): machine learning, ...\n",
    "\n",
    "- Data \n",
    "\n",
    "> [pandas](http://pandas.pydata.org/pandas-docs/stable/10min.html): data structures, time series, ...\n",
    "\n",
    "- Plotting\n",
    "\n",
    "> [matplotlib](http://matplotlib.org/index.html): publication quality figures, animations, ...\n",
    "><br/>\n",
    "> [seaborn](http://seaborn.pydata.org/): statistical data visualization\n",
    "\n"
   ]
  },
  {
   "cell_type": "code",
   "execution_count": 30,
   "metadata": {},
   "outputs": [
    {
     "name": "stdout",
     "output_type": "stream",
     "text": [
      "[10.5 11.5]\n"
     ]
    }
   ],
   "source": [
    "# least-squares fitting w/ scikit-learn\n",
    "from sklearn import linear_model\n",
    "\n",
    "lr = linear_model.LinearRegression()\n",
    "\n",
    "lr.fit([[0],[1],[2]], [10,11,12]);\n",
    "\n",
    "print (lr.predict([[0.5],[1.5]]))"
   ]
  }
 ],
 "metadata": {
  "anaconda-cloud": {},
  "kernelspec": {
   "display_name": "Python 3 (ipykernel)",
   "language": "python",
   "name": "python3"
  },
  "language_info": {
   "codemirror_mode": {
    "name": "ipython",
    "version": 3
   },
   "file_extension": ".py",
   "mimetype": "text/x-python",
   "name": "python",
   "nbconvert_exporter": "python",
   "pygments_lexer": "ipython3",
   "version": "3.11.4"
  }
 },
 "nbformat": 4,
 "nbformat_minor": 1
}
