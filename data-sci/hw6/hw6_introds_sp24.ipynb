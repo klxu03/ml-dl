{
  "cells": [
    {
      "cell_type": "markdown",
      "id": "944ab4d2",
      "metadata": {
        "id": "944ab4d2"
      },
      "source": [
        "# Homework 6 - Data Splitting, Decision Trees and Random Forests\n",
        "This homework will reinforce what you learned about the above classification algorithms by applying them to the pulsar dataset.\n",
        "\n",
        "You shold have downloaded:\n",
        "- pulsar.csv\n",
        "\n",
        "## 0 Load Data\n",
        "Pulsars are a rare type of Neutron star that produce radio emission detectable here on Earth. They are of considerable scientific interest as probes of space-time, the inter-stellar medium, and states of matter.\n",
        "\n",
        " You can read more (interesting!) details at ([source](https://archive.ics.uci.edu/ml/datasets/HTRU2)).\n",
        "\n",
        "`pulsar.csv`  contains statistics from two types of signal from pulsar candidates:\n",
        "1. integrated profile (IP) and\n",
        "2. dispersion-measure signal-to-noise ratio (DMSNR) curve.\n",
        "\n",
        "Run the cell below to see what data we have."
      ]
    },
    {
      "cell_type": "code",
      "execution_count": 1,
      "id": "382bf811",
      "metadata": {
        "scrolled": true,
        "colab": {
          "base_uri": "https://localhost:8080/",
          "height": 424
        },
        "id": "382bf811",
        "outputId": "70247fc9-1e50-400c-e7ff-763205cb718a"
      },
      "outputs": [
        {
          "output_type": "display_data",
          "data": {
            "text/plain": [
              "          IP_Mean      IP_SD   IP_Kurt   IP_Skew  DMSNR_Mean   DMSNR_SD  \\\n",
              "0      140.562500  55.683782 -0.234571 -0.699648    3.199833  19.110426   \n",
              "1      102.507812  58.882430  0.465318 -0.515088    1.677258  14.860146   \n",
              "2      103.015625  39.341649  0.323328  1.051164    3.121237  21.744669   \n",
              "3      136.750000  57.178449 -0.068415 -0.636238    3.642977  20.959280   \n",
              "4       88.726562  40.672225  0.600866  1.123492    1.178930  11.468720   \n",
              "...           ...        ...       ...       ...         ...        ...   \n",
              "17893  136.429688  59.847421 -0.187846 -0.738123    1.296823  12.166062   \n",
              "17894  122.554688  49.485605  0.127978  0.323061   16.409699  44.626893   \n",
              "17895  119.335938  59.935939  0.159363 -0.743025   21.430602  58.872000   \n",
              "17896  114.507812  53.902400  0.201161 -0.024789    1.946488  13.381731   \n",
              "17897   57.062500  85.797340  1.406391  0.089520  188.306020  64.712562   \n",
              "\n",
              "       DMSNR_Kurt  DMSNR_Skew  Pulsar  \n",
              "0        7.975532   74.242225       0  \n",
              "1       10.576487  127.393580       0  \n",
              "2        7.735822   63.171909       0  \n",
              "3        6.896499   53.593661       0  \n",
              "4       14.269573  252.567306       0  \n",
              "...           ...         ...     ...  \n",
              "17893   15.450260  285.931022       0  \n",
              "17894    2.945244    8.297092       0  \n",
              "17895    2.499517    4.595173       0  \n",
              "17896   10.007967  134.238910       0  \n",
              "17897   -1.597527    1.429475       0  \n",
              "\n",
              "[17898 rows x 9 columns]"
            ],
            "text/html": [
              "\n",
              "  <div id=\"df-734d90b9-19fe-4913-aae9-2790651fcead\" class=\"colab-df-container\">\n",
              "    <div>\n",
              "<style scoped>\n",
              "    .dataframe tbody tr th:only-of-type {\n",
              "        vertical-align: middle;\n",
              "    }\n",
              "\n",
              "    .dataframe tbody tr th {\n",
              "        vertical-align: top;\n",
              "    }\n",
              "\n",
              "    .dataframe thead th {\n",
              "        text-align: right;\n",
              "    }\n",
              "</style>\n",
              "<table border=\"1\" class=\"dataframe\">\n",
              "  <thead>\n",
              "    <tr style=\"text-align: right;\">\n",
              "      <th></th>\n",
              "      <th>IP_Mean</th>\n",
              "      <th>IP_SD</th>\n",
              "      <th>IP_Kurt</th>\n",
              "      <th>IP_Skew</th>\n",
              "      <th>DMSNR_Mean</th>\n",
              "      <th>DMSNR_SD</th>\n",
              "      <th>DMSNR_Kurt</th>\n",
              "      <th>DMSNR_Skew</th>\n",
              "      <th>Pulsar</th>\n",
              "    </tr>\n",
              "  </thead>\n",
              "  <tbody>\n",
              "    <tr>\n",
              "      <th>0</th>\n",
              "      <td>140.562500</td>\n",
              "      <td>55.683782</td>\n",
              "      <td>-0.234571</td>\n",
              "      <td>-0.699648</td>\n",
              "      <td>3.199833</td>\n",
              "      <td>19.110426</td>\n",
              "      <td>7.975532</td>\n",
              "      <td>74.242225</td>\n",
              "      <td>0</td>\n",
              "    </tr>\n",
              "    <tr>\n",
              "      <th>1</th>\n",
              "      <td>102.507812</td>\n",
              "      <td>58.882430</td>\n",
              "      <td>0.465318</td>\n",
              "      <td>-0.515088</td>\n",
              "      <td>1.677258</td>\n",
              "      <td>14.860146</td>\n",
              "      <td>10.576487</td>\n",
              "      <td>127.393580</td>\n",
              "      <td>0</td>\n",
              "    </tr>\n",
              "    <tr>\n",
              "      <th>2</th>\n",
              "      <td>103.015625</td>\n",
              "      <td>39.341649</td>\n",
              "      <td>0.323328</td>\n",
              "      <td>1.051164</td>\n",
              "      <td>3.121237</td>\n",
              "      <td>21.744669</td>\n",
              "      <td>7.735822</td>\n",
              "      <td>63.171909</td>\n",
              "      <td>0</td>\n",
              "    </tr>\n",
              "    <tr>\n",
              "      <th>3</th>\n",
              "      <td>136.750000</td>\n",
              "      <td>57.178449</td>\n",
              "      <td>-0.068415</td>\n",
              "      <td>-0.636238</td>\n",
              "      <td>3.642977</td>\n",
              "      <td>20.959280</td>\n",
              "      <td>6.896499</td>\n",
              "      <td>53.593661</td>\n",
              "      <td>0</td>\n",
              "    </tr>\n",
              "    <tr>\n",
              "      <th>4</th>\n",
              "      <td>88.726562</td>\n",
              "      <td>40.672225</td>\n",
              "      <td>0.600866</td>\n",
              "      <td>1.123492</td>\n",
              "      <td>1.178930</td>\n",
              "      <td>11.468720</td>\n",
              "      <td>14.269573</td>\n",
              "      <td>252.567306</td>\n",
              "      <td>0</td>\n",
              "    </tr>\n",
              "    <tr>\n",
              "      <th>...</th>\n",
              "      <td>...</td>\n",
              "      <td>...</td>\n",
              "      <td>...</td>\n",
              "      <td>...</td>\n",
              "      <td>...</td>\n",
              "      <td>...</td>\n",
              "      <td>...</td>\n",
              "      <td>...</td>\n",
              "      <td>...</td>\n",
              "    </tr>\n",
              "    <tr>\n",
              "      <th>17893</th>\n",
              "      <td>136.429688</td>\n",
              "      <td>59.847421</td>\n",
              "      <td>-0.187846</td>\n",
              "      <td>-0.738123</td>\n",
              "      <td>1.296823</td>\n",
              "      <td>12.166062</td>\n",
              "      <td>15.450260</td>\n",
              "      <td>285.931022</td>\n",
              "      <td>0</td>\n",
              "    </tr>\n",
              "    <tr>\n",
              "      <th>17894</th>\n",
              "      <td>122.554688</td>\n",
              "      <td>49.485605</td>\n",
              "      <td>0.127978</td>\n",
              "      <td>0.323061</td>\n",
              "      <td>16.409699</td>\n",
              "      <td>44.626893</td>\n",
              "      <td>2.945244</td>\n",
              "      <td>8.297092</td>\n",
              "      <td>0</td>\n",
              "    </tr>\n",
              "    <tr>\n",
              "      <th>17895</th>\n",
              "      <td>119.335938</td>\n",
              "      <td>59.935939</td>\n",
              "      <td>0.159363</td>\n",
              "      <td>-0.743025</td>\n",
              "      <td>21.430602</td>\n",
              "      <td>58.872000</td>\n",
              "      <td>2.499517</td>\n",
              "      <td>4.595173</td>\n",
              "      <td>0</td>\n",
              "    </tr>\n",
              "    <tr>\n",
              "      <th>17896</th>\n",
              "      <td>114.507812</td>\n",
              "      <td>53.902400</td>\n",
              "      <td>0.201161</td>\n",
              "      <td>-0.024789</td>\n",
              "      <td>1.946488</td>\n",
              "      <td>13.381731</td>\n",
              "      <td>10.007967</td>\n",
              "      <td>134.238910</td>\n",
              "      <td>0</td>\n",
              "    </tr>\n",
              "    <tr>\n",
              "      <th>17897</th>\n",
              "      <td>57.062500</td>\n",
              "      <td>85.797340</td>\n",
              "      <td>1.406391</td>\n",
              "      <td>0.089520</td>\n",
              "      <td>188.306020</td>\n",
              "      <td>64.712562</td>\n",
              "      <td>-1.597527</td>\n",
              "      <td>1.429475</td>\n",
              "      <td>0</td>\n",
              "    </tr>\n",
              "  </tbody>\n",
              "</table>\n",
              "<p>17898 rows × 9 columns</p>\n",
              "</div>\n",
              "    <div class=\"colab-df-buttons\">\n",
              "\n",
              "  <div class=\"colab-df-container\">\n",
              "    <button class=\"colab-df-convert\" onclick=\"convertToInteractive('df-734d90b9-19fe-4913-aae9-2790651fcead')\"\n",
              "            title=\"Convert this dataframe to an interactive table.\"\n",
              "            style=\"display:none;\">\n",
              "\n",
              "  <svg xmlns=\"http://www.w3.org/2000/svg\" height=\"24px\" viewBox=\"0 -960 960 960\">\n",
              "    <path d=\"M120-120v-720h720v720H120Zm60-500h600v-160H180v160Zm220 220h160v-160H400v160Zm0 220h160v-160H400v160ZM180-400h160v-160H180v160Zm440 0h160v-160H620v160ZM180-180h160v-160H180v160Zm440 0h160v-160H620v160Z\"/>\n",
              "  </svg>\n",
              "    </button>\n",
              "\n",
              "  <style>\n",
              "    .colab-df-container {\n",
              "      display:flex;\n",
              "      gap: 12px;\n",
              "    }\n",
              "\n",
              "    .colab-df-convert {\n",
              "      background-color: #E8F0FE;\n",
              "      border: none;\n",
              "      border-radius: 50%;\n",
              "      cursor: pointer;\n",
              "      display: none;\n",
              "      fill: #1967D2;\n",
              "      height: 32px;\n",
              "      padding: 0 0 0 0;\n",
              "      width: 32px;\n",
              "    }\n",
              "\n",
              "    .colab-df-convert:hover {\n",
              "      background-color: #E2EBFA;\n",
              "      box-shadow: 0px 1px 2px rgba(60, 64, 67, 0.3), 0px 1px 3px 1px rgba(60, 64, 67, 0.15);\n",
              "      fill: #174EA6;\n",
              "    }\n",
              "\n",
              "    .colab-df-buttons div {\n",
              "      margin-bottom: 4px;\n",
              "    }\n",
              "\n",
              "    [theme=dark] .colab-df-convert {\n",
              "      background-color: #3B4455;\n",
              "      fill: #D2E3FC;\n",
              "    }\n",
              "\n",
              "    [theme=dark] .colab-df-convert:hover {\n",
              "      background-color: #434B5C;\n",
              "      box-shadow: 0px 1px 3px 1px rgba(0, 0, 0, 0.15);\n",
              "      filter: drop-shadow(0px 1px 2px rgba(0, 0, 0, 0.3));\n",
              "      fill: #FFFFFF;\n",
              "    }\n",
              "  </style>\n",
              "\n",
              "    <script>\n",
              "      const buttonEl =\n",
              "        document.querySelector('#df-734d90b9-19fe-4913-aae9-2790651fcead button.colab-df-convert');\n",
              "      buttonEl.style.display =\n",
              "        google.colab.kernel.accessAllowed ? 'block' : 'none';\n",
              "\n",
              "      async function convertToInteractive(key) {\n",
              "        const element = document.querySelector('#df-734d90b9-19fe-4913-aae9-2790651fcead');\n",
              "        const dataTable =\n",
              "          await google.colab.kernel.invokeFunction('convertToInteractive',\n",
              "                                                    [key], {});\n",
              "        if (!dataTable) return;\n",
              "\n",
              "        const docLinkHtml = 'Like what you see? Visit the ' +\n",
              "          '<a target=\"_blank\" href=https://colab.research.google.com/notebooks/data_table.ipynb>data table notebook</a>'\n",
              "          + ' to learn more about interactive tables.';\n",
              "        element.innerHTML = '';\n",
              "        dataTable['output_type'] = 'display_data';\n",
              "        await google.colab.output.renderOutput(dataTable, element);\n",
              "        const docLink = document.createElement('div');\n",
              "        docLink.innerHTML = docLinkHtml;\n",
              "        element.appendChild(docLink);\n",
              "      }\n",
              "    </script>\n",
              "  </div>\n",
              "\n",
              "\n",
              "<div id=\"df-327d8bff-e0d2-4215-a82a-318ab7a841ff\">\n",
              "  <button class=\"colab-df-quickchart\" onclick=\"quickchart('df-327d8bff-e0d2-4215-a82a-318ab7a841ff')\"\n",
              "            title=\"Suggest charts\"\n",
              "            style=\"display:none;\">\n",
              "\n",
              "<svg xmlns=\"http://www.w3.org/2000/svg\" height=\"24px\"viewBox=\"0 0 24 24\"\n",
              "     width=\"24px\">\n",
              "    <g>\n",
              "        <path d=\"M19 3H5c-1.1 0-2 .9-2 2v14c0 1.1.9 2 2 2h14c1.1 0 2-.9 2-2V5c0-1.1-.9-2-2-2zM9 17H7v-7h2v7zm4 0h-2V7h2v10zm4 0h-2v-4h2v4z\"/>\n",
              "    </g>\n",
              "</svg>\n",
              "  </button>\n",
              "\n",
              "<style>\n",
              "  .colab-df-quickchart {\n",
              "      --bg-color: #E8F0FE;\n",
              "      --fill-color: #1967D2;\n",
              "      --hover-bg-color: #E2EBFA;\n",
              "      --hover-fill-color: #174EA6;\n",
              "      --disabled-fill-color: #AAA;\n",
              "      --disabled-bg-color: #DDD;\n",
              "  }\n",
              "\n",
              "  [theme=dark] .colab-df-quickchart {\n",
              "      --bg-color: #3B4455;\n",
              "      --fill-color: #D2E3FC;\n",
              "      --hover-bg-color: #434B5C;\n",
              "      --hover-fill-color: #FFFFFF;\n",
              "      --disabled-bg-color: #3B4455;\n",
              "      --disabled-fill-color: #666;\n",
              "  }\n",
              "\n",
              "  .colab-df-quickchart {\n",
              "    background-color: var(--bg-color);\n",
              "    border: none;\n",
              "    border-radius: 50%;\n",
              "    cursor: pointer;\n",
              "    display: none;\n",
              "    fill: var(--fill-color);\n",
              "    height: 32px;\n",
              "    padding: 0;\n",
              "    width: 32px;\n",
              "  }\n",
              "\n",
              "  .colab-df-quickchart:hover {\n",
              "    background-color: var(--hover-bg-color);\n",
              "    box-shadow: 0 1px 2px rgba(60, 64, 67, 0.3), 0 1px 3px 1px rgba(60, 64, 67, 0.15);\n",
              "    fill: var(--button-hover-fill-color);\n",
              "  }\n",
              "\n",
              "  .colab-df-quickchart-complete:disabled,\n",
              "  .colab-df-quickchart-complete:disabled:hover {\n",
              "    background-color: var(--disabled-bg-color);\n",
              "    fill: var(--disabled-fill-color);\n",
              "    box-shadow: none;\n",
              "  }\n",
              "\n",
              "  .colab-df-spinner {\n",
              "    border: 2px solid var(--fill-color);\n",
              "    border-color: transparent;\n",
              "    border-bottom-color: var(--fill-color);\n",
              "    animation:\n",
              "      spin 1s steps(1) infinite;\n",
              "  }\n",
              "\n",
              "  @keyframes spin {\n",
              "    0% {\n",
              "      border-color: transparent;\n",
              "      border-bottom-color: var(--fill-color);\n",
              "      border-left-color: var(--fill-color);\n",
              "    }\n",
              "    20% {\n",
              "      border-color: transparent;\n",
              "      border-left-color: var(--fill-color);\n",
              "      border-top-color: var(--fill-color);\n",
              "    }\n",
              "    30% {\n",
              "      border-color: transparent;\n",
              "      border-left-color: var(--fill-color);\n",
              "      border-top-color: var(--fill-color);\n",
              "      border-right-color: var(--fill-color);\n",
              "    }\n",
              "    40% {\n",
              "      border-color: transparent;\n",
              "      border-right-color: var(--fill-color);\n",
              "      border-top-color: var(--fill-color);\n",
              "    }\n",
              "    60% {\n",
              "      border-color: transparent;\n",
              "      border-right-color: var(--fill-color);\n",
              "    }\n",
              "    80% {\n",
              "      border-color: transparent;\n",
              "      border-right-color: var(--fill-color);\n",
              "      border-bottom-color: var(--fill-color);\n",
              "    }\n",
              "    90% {\n",
              "      border-color: transparent;\n",
              "      border-bottom-color: var(--fill-color);\n",
              "    }\n",
              "  }\n",
              "</style>\n",
              "\n",
              "  <script>\n",
              "    async function quickchart(key) {\n",
              "      const quickchartButtonEl =\n",
              "        document.querySelector('#' + key + ' button');\n",
              "      quickchartButtonEl.disabled = true;  // To prevent multiple clicks.\n",
              "      quickchartButtonEl.classList.add('colab-df-spinner');\n",
              "      try {\n",
              "        const charts = await google.colab.kernel.invokeFunction(\n",
              "            'suggestCharts', [key], {});\n",
              "      } catch (error) {\n",
              "        console.error('Error during call to suggestCharts:', error);\n",
              "      }\n",
              "      quickchartButtonEl.classList.remove('colab-df-spinner');\n",
              "      quickchartButtonEl.classList.add('colab-df-quickchart-complete');\n",
              "    }\n",
              "    (() => {\n",
              "      let quickchartButtonEl =\n",
              "        document.querySelector('#df-327d8bff-e0d2-4215-a82a-318ab7a841ff button');\n",
              "      quickchartButtonEl.style.display =\n",
              "        google.colab.kernel.accessAllowed ? 'block' : 'none';\n",
              "    })();\n",
              "  </script>\n",
              "</div>\n",
              "    </div>\n",
              "  </div>\n"
            ],
            "application/vnd.google.colaboratory.intrinsic+json": {
              "type": "dataframe",
              "variable_name": "data",
              "summary": "{\n  \"name\": \"data\",\n  \"rows\": 17898,\n  \"fields\": [\n    {\n      \"column\": \"IP_Mean\",\n      \"properties\": {\n        \"dtype\": \"number\",\n        \"std\": 25.652935359860106,\n        \"min\": 5.8125,\n        \"max\": 192.6171875,\n        \"num_unique_values\": 8626,\n        \"samples\": [\n          83.265625,\n          51.9453125,\n          120.75\n        ],\n        \"semantic_type\": \"\",\n        \"description\": \"\"\n      }\n    },\n    {\n      \"column\": \"IP_SD\",\n      \"properties\": {\n        \"dtype\": \"number\",\n        \"std\": 6.843189410087772,\n        \"min\": 24.77204176,\n        \"max\": 98.77891067,\n        \"num_unique_values\": 17862,\n        \"samples\": [\n          48.17823507,\n          50.13572825,\n          53.11199232\n        ],\n        \"semantic_type\": \"\",\n        \"description\": \"\"\n      }\n    },\n    {\n      \"column\": \"IP_Kurt\",\n      \"properties\": {\n        \"dtype\": \"number\",\n        \"std\": 1.0640397163731556,\n        \"min\": -1.876011181,\n        \"max\": 8.069522046,\n        \"num_unique_values\": 17897,\n        \"samples\": [\n          0.175111538,\n          2.02549836,\n          0.504295246\n        ],\n        \"semantic_type\": \"\",\n        \"description\": \"\"\n      }\n    },\n    {\n      \"column\": \"IP_Skew\",\n      \"properties\": {\n        \"dtype\": \"number\",\n        \"std\": 6.167913247731735,\n        \"min\": -1.791885981,\n        \"max\": 68.10162173,\n        \"num_unique_values\": 17898,\n        \"samples\": [\n          -0.129815137,\n          8.652912976,\n          0.821088334\n        ],\n        \"semantic_type\": \"\",\n        \"description\": \"\"\n      }\n    },\n    {\n      \"column\": \"DMSNR_Mean\",\n      \"properties\": {\n        \"dtype\": \"number\",\n        \"std\": 29.472897150065176,\n        \"min\": 0.213210702,\n        \"max\": 223.3921405,\n        \"num_unique_values\": 9000,\n        \"samples\": [\n          3.387123746,\n          4.147157191,\n          3.241638796\n        ],\n        \"semantic_type\": \"\",\n        \"description\": \"\"\n      }\n    },\n    {\n      \"column\": \"DMSNR_SD\",\n      \"properties\": {\n        \"dtype\": \"number\",\n        \"std\": 19.470572330539163,\n        \"min\": 7.370432165,\n        \"max\": 110.6422106,\n        \"num_unique_values\": 17894,\n        \"samples\": [\n          16.7127396,\n          11.35208188,\n          11.14631778\n        ],\n        \"semantic_type\": \"\",\n        \"description\": \"\"\n      }\n    },\n    {\n      \"column\": \"DMSNR_Kurt\",\n      \"properties\": {\n        \"dtype\": \"number\",\n        \"std\": 4.506091858992771,\n        \"min\": -3.139269611,\n        \"max\": 34.53984419,\n        \"num_unique_values\": 17895,\n        \"samples\": [\n          10.49423164,\n          8.479589229,\n          8.236539915\n        ],\n        \"semantic_type\": \"\",\n        \"description\": \"\"\n      }\n    },\n    {\n      \"column\": \"DMSNR_Skew\",\n      \"properties\": {\n        \"dtype\": \"number\",\n        \"std\": 106.51453953467565,\n        \"min\": -1.976975603,\n        \"max\": 1191.000837,\n        \"num_unique_values\": 17895,\n        \"samples\": [\n          153.2811187,\n          92.51934407,\n          84.30255822\n        ],\n        \"semantic_type\": \"\",\n        \"description\": \"\"\n      }\n    },\n    {\n      \"column\": \"Pulsar\",\n      \"properties\": {\n        \"dtype\": \"number\",\n        \"std\": 0,\n        \"min\": 0,\n        \"max\": 1,\n        \"num_unique_values\": 2,\n        \"samples\": [\n          1,\n          0\n        ],\n        \"semantic_type\": \"\",\n        \"description\": \"\"\n      }\n    }\n  ]\n}"
            }
          },
          "metadata": {}
        }
      ],
      "source": [
        "# ---------- DO NOT CHANGE CODE HERE ---------\n",
        "import numpy as np\n",
        "import pandas as pd\n",
        "import matplotlib.pyplot as plt\n",
        "\n",
        "data = pd.read_csv(\"pulsar.csv\")\n",
        "display(data)\n",
        "X = data.iloc[:,:8].to_numpy()\n",
        "y = data.iloc[:,8].to_numpy()\n",
        "# --------------------------------------------"
      ]
    },
    {
      "cell_type": "markdown",
      "id": "089887fc",
      "metadata": {
        "id": "089887fc"
      },
      "source": [
        "## 1 Data Splitting (3 ways)\n",
        "There are many ways to split the training and test data. Here is a short exercise to learn and compare 3 such ways using `sklearn.model_selection`:\n",
        "1. `train_test_split`\n",
        "2. `KFold`\n",
        "3. `StratifiedShuffleSplit`\n",
        "\n",
        "**Read and understand** how the 3 methods work by reading the code demostration below.\n",
        "- You should know what every line of code is doing."
      ]
    },
    {
      "cell_type": "markdown",
      "id": "cbc07c4f",
      "metadata": {
        "id": "cbc07c4f"
      },
      "source": [
        "#### Method 1: train_test_split\n",
        "Using `sklearn.model_selection.train_test_split`, we split the data into training and test."
      ]
    },
    {
      "cell_type": "code",
      "execution_count": 3,
      "id": "19d1a31e",
      "metadata": {
        "colab": {
          "base_uri": "https://localhost:8080/",
          "height": 0
        },
        "id": "19d1a31e",
        "outputId": "eb79ad06-e38c-4711-a9bb-c30e021b03fa"
      },
      "outputs": [
        {
          "output_type": "stream",
          "name": "stdout",
          "text": [
            "Training Set, Pulsars: 1481 out of 11932\n",
            "Test Set    , Pulsars: 158 out of 5966\n"
          ]
        }
      ],
      "source": [
        "# ---------- DO NOT CHANGE CODE HERE ---------\n",
        "from sklearn.model_selection import train_test_split\n",
        "X_train_tts, X_test_tts, y_train_tts, y_test_tts = train_test_split(X, y, test_size=1/3, shuffle=False)\n",
        "\n",
        "n_pulsar_train_tts = (y_train_tts==1).sum()\n",
        "n_pulsar_test_tts = (y_test_tts==1).sum()\n",
        "print(\"Training Set, Pulsars:\", n_pulsar_train_tts, \"out of\", y_train_tts.shape[0])\n",
        "print(\"Test Set    , Pulsars:\", n_pulsar_test_tts, \"out of\", y_test_tts.shape[0])\n",
        "# --------------------------------------------"
      ]
    },
    {
      "cell_type": "markdown",
      "id": "d171cea9",
      "metadata": {
        "id": "d171cea9"
      },
      "source": [
        "#### Method 2: K-Fold\n",
        "Using `sklearn.model_selection.KFold` on default shuffle settings, we split the data into training and test."
      ]
    },
    {
      "cell_type": "code",
      "execution_count": 4,
      "id": "739847ee",
      "metadata": {
        "colab": {
          "base_uri": "https://localhost:8080/",
          "height": 0
        },
        "id": "739847ee",
        "outputId": "947dc91c-c093-4b65-9e4c-1b92ea93918e"
      },
      "outputs": [
        {
          "output_type": "stream",
          "name": "stdout",
          "text": [
            "Training Set, Pulsars: 729 out of 11932\n",
            "Test Set    , Pulsars: 910 out of 5966 \n",
            "\n",
            "Training Set, Pulsars: 1068 out of 11932\n",
            "Test Set    , Pulsars: 571 out of 5966 \n",
            "\n",
            "Training Set, Pulsars: 1481 out of 11932\n",
            "Test Set    , Pulsars: 158 out of 5966 \n",
            "\n"
          ]
        }
      ],
      "source": [
        "# ---------- DO NOT CHANGE CODE HERE ---------\n",
        "from sklearn.model_selection import KFold\n",
        "kf = KFold(n_splits=3)\n",
        "\n",
        "for i, (train_idx_kf, test_idx_kf) in enumerate(kf.split(X)):\n",
        "    X_train_kf, y_train_kf = X[train_idx_kf], y[train_idx_kf]\n",
        "    X_test_kf, y_test_kf = X[test_idx_kf], y[test_idx_kf]\n",
        "\n",
        "    n_pulsar_train_kf = (y_train_kf==1).sum()\n",
        "    n_pulsar_test_kf = (y_test_kf==1).sum()\n",
        "    print(\"Training Set, Pulsars:\", n_pulsar_train_kf, \"out of\", y_train_kf.shape[0])\n",
        "    print(\"Test Set    , Pulsars:\", n_pulsar_test_kf, \"out of\", y_test_kf.shape[0], '\\n')\n",
        "# --------------------------------------------"
      ]
    },
    {
      "cell_type": "markdown",
      "id": "6d4f0e9d",
      "metadata": {
        "id": "6d4f0e9d"
      },
      "source": [
        "#### Method 3: Stratified Shuffle Split\n",
        "Using `sklearn.model_selection.StratifiedShuffleSplit`, we split the data into training and test."
      ]
    },
    {
      "cell_type": "code",
      "execution_count": 5,
      "id": "d7ef4cef",
      "metadata": {
        "colab": {
          "base_uri": "https://localhost:8080/",
          "height": 0
        },
        "id": "d7ef4cef",
        "outputId": "525d73db-c5e6-4691-8750-00a3330314bf"
      },
      "outputs": [
        {
          "output_type": "stream",
          "name": "stdout",
          "text": [
            "Training Set, Pulsars: 1093 out of 11932\n",
            "Test Set    , Pulsars: 546 out of 5966 \n",
            "\n",
            "Training Set, Pulsars: 1093 out of 11932\n",
            "Test Set    , Pulsars: 546 out of 5966 \n",
            "\n",
            "Training Set, Pulsars: 1093 out of 11932\n",
            "Test Set    , Pulsars: 546 out of 5966 \n",
            "\n"
          ]
        }
      ],
      "source": [
        "# ---------- DO NOT CHANGE CODE HERE ---------\n",
        "from sklearn.model_selection import StratifiedShuffleSplit\n",
        "\n",
        "sss = StratifiedShuffleSplit(n_splits=3, test_size=1/3, random_state=0)\n",
        "\n",
        "X_train_sss, y_train_sss, X_test_sss, y_test_sss = {}, {}, {}, {}\n",
        "for i, (train_idx, test_idx) in enumerate(sss.split(X, y)):\n",
        "    X_train_sss[i], y_train_sss[i] = X[train_idx], y[train_idx]\n",
        "    X_test_sss[i], y_test_sss[i] = X[test_idx], y[test_idx]\n",
        "\n",
        "    n_pulsar_train = (y_train_sss[i]==1).sum()\n",
        "    n_pulsar_test = (y_test_sss[i]==1).sum()\n",
        "    print(\"Training Set, Pulsars:\", n_pulsar_train, \"out of\", y_train_sss[i].shape[0])\n",
        "    print(\"Test Set    , Pulsars:\", n_pulsar_test, \"out of\", y_test_sss[i].shape[0], '\\n')\n",
        "# --------------------------------------------"
      ]
    },
    {
      "cell_type": "markdown",
      "id": "8031d040",
      "metadata": {
        "id": "8031d040"
      },
      "source": [
        "### 1.1 Discussion (Stratified Shuffle Split)\n",
        "The number of pulsars in the training and test data for stratified shuffle split are identical.\n",
        "\n",
        "**Task:**\n",
        "1. [1 pt] Why are the number of pulsars identical for each stratified shuffle split? (i.e., what does \"stratified\" mean?)\n",
        "\n",
        "    **Ans:** This is because of what stratified means, which is a way to divide up the data sets based on a feature to keep them all consistent across splits while shuffling them. In this case, the feature is split evenly across all the splits for both train and test based on whether or not they were pulsar or not. This may be done to reflect the original dataset distribution among each split.\n",
        "\n",
        "2. [1 pt] Using the code cell below, verify that the splits themselves are actually not identical. (Tip: use np.all(...), where ... is code you fill in yourself.)\n",
        "\n",
        "3. [1 pt] Why is the number of pulsars for stratified shuffle split different from those of train_test_split and KFold? A short answer will do.\n",
        "        \n",
        "    **Ans:** Stratified shuffle split ensures the ratio of pulsars are evently distributed. In contrast, train_test_split and KFold do not hold this guarantee without specific stratification instructions, so they will be different (not perfectly balanced).\n",
        "\n",
        "\n",
        "\n",
        "\n",
        "\n",
        "\n"
      ]
    },
    {
      "cell_type": "code",
      "execution_count": 6,
      "id": "1ca3a756",
      "metadata": {
        "colab": {
          "base_uri": "https://localhost:8080/",
          "height": 0
        },
        "id": "1ca3a756",
        "outputId": "3ddcd90b-5099-4479-b0fb-dbd684f110d1"
      },
      "outputs": [
        {
          "output_type": "stream",
          "name": "stdout",
          "text": [
            "Are training splits different? True\n",
            "Are test splits different? True\n"
          ]
        }
      ],
      "source": [
        "# TOD Use this cell to verify that all the splits from stratified shuffle split are different\n",
        "are_train_splits_different = not np.all([np.array_equal(X_train_sss[i], X_train_sss[j]) for i in range(len(X_train_sss)) for j in range(i+1, len(X_train_sss))])\n",
        "are_test_splits_different = not np.all([np.array_equal(X_test_sss[i], X_test_sss[j]) for i in range(len(X_test_sss)) for j in range(i+1, len(X_test_sss))])\n",
        "\n",
        "print(f\"Are training splits different? {are_train_splits_different}\")\n",
        "print(f\"Are test splits different? {are_test_splits_different}\")"
      ]
    },
    {
      "cell_type": "markdown",
      "id": "8f336c4d",
      "metadata": {
        "id": "8f336c4d"
      },
      "source": [
        "### 1.2 Discussion (train_test_split and KFold)\n",
        "There is an identical match between the split for train_test_split and one of the splits for KFold.\n",
        "\n",
        "**Task:**\n",
        "1. [1 pt] Using the code cell below, verify that the split is indeed identical. (Tip: use np.all(...), where ... is code you fill in yourself.)\n",
        "\n",
        "2. [1 pt] Why does this identical match happen?  What settings or function/method arguments explain the occurence of this match?\n",
        "\n",
        "    **Ans:** This is because we explicitly turned off shuffling for train_test_split, and by default KFold has shuffling disabled. Because the two methods will both have a 2 - 1 data split, 2/3 training and 1/3 testing, and the data is not being shuffled in either one of them so the splits are being done on the original order, then the resulting split in one of the three will be the same.\n"
      ]
    },
    {
      "cell_type": "code",
      "execution_count": 9,
      "id": "4abf4913",
      "metadata": {
        "colab": {
          "base_uri": "https://localhost:8080/",
          "height": 0
        },
        "id": "4abf4913",
        "outputId": "22bbb583-9374-499f-edcc-5792ee15d8b5"
      },
      "outputs": [
        {
          "output_type": "stream",
          "name": "stdout",
          "text": [
            "Is the train split identical? True\n",
            "Is the test split identical? True\n",
            "Is the first split identical? True\n"
          ]
        }
      ],
      "source": [
        "# TOD Use this cell to verify that one of the splits from train_test_split and KFold are the same\n",
        "\n",
        "is_identical_split_train = not np.all([np.array_equal(X_train_tts, X_train_kf[i]) for i in range(len(X_train_kf))])\n",
        "print(f\"Is the train split identical? {is_identical_split_train}\")\n",
        "is_identical_split_test = not np.all([np.array_equal(X_test_tts, X_test_kf[i]) for i in range(len(X_test_kf))])\n",
        "print(f\"Is the test split identical? {is_identical_split_test}\")"
      ]
    },
    {
      "cell_type": "markdown",
      "id": "da7ee339",
      "metadata": {
        "id": "da7ee339"
      },
      "source": [
        "## 2 Cross Validation\n",
        "\n",
        "### 2.1 sklearn cross val score\n",
        "**Task:**\n",
        "1. [2 pt] Use `sklearn.model_selection.cross_val_score` to perform cross validation on decision tree classifier\n",
        "    - Define your DecisionTreeClassifier as `clf`.\n",
        "    - Set `max_depth=9` and `random_state=0` in your DecisionTreeClassifier object.\n",
        "    - Perform a 3-fold validation in `cross_val_score`.\n",
        "    - Print the cross validation scores, this should be an array of three elements."
      ]
    },
    {
      "cell_type": "code",
      "execution_count": 10,
      "id": "6a3a625d",
      "metadata": {
        "colab": {
          "base_uri": "https://localhost:8080/",
          "height": 0
        },
        "id": "6a3a625d",
        "outputId": "f2671fb8-dffd-4a6a-b04f-c96b3fddec3c"
      },
      "outputs": [
        {
          "output_type": "stream",
          "name": "stdout",
          "text": [
            "Cross-validation scores: [0.97536038 0.97234328 0.97385183]\n"
          ]
        }
      ],
      "source": [
        "from sklearn.tree import DecisionTreeClassifier\n",
        "from sklearn.model_selection import cross_val_score\n",
        "\n",
        "# TOD\n",
        "clf = DecisionTreeClassifier(max_depth=9, random_state=0)\n",
        "\n",
        "scores = cross_val_score(clf, X, y, cv=3)\n",
        "\n",
        "print(\"Cross-validation scores:\", scores)"
      ]
    },
    {
      "cell_type": "markdown",
      "id": "73d0c2b3",
      "metadata": {
        "id": "73d0c2b3"
      },
      "source": [
        "### 2.2 \"Manual\" cross val score\n",
        "**Task:**\n",
        "\n",
        "Run the code cell below.\n",
        "\n",
        "Based on the lecture Jupyter notebooks, the code below *should be* what the `cross_val_score` function performs. If it is what `cross_val_score` function is actually performing, we ought to see the same three validation scores printed.\n",
        "\n",
        "1. [1 pt] Read the documentation for [sklearn.model_selection.cross_val_score](https://scikit-learn.org/stable/modules/generated/sklearn.model_selection.cross_val_score.html). Pay attention to the description in the \"cv\" parameter. Why isn't the code below performing as we expected?\n",
        "\n",
        "    **Ans:** When the cv argument is specified in cross_val_score, by default it uses stratified cross-validation by default. KFold doesn't use stratified cross-validation by default, and instead is splitting based on index in the original order (not even shuffling) so this descrepancy in splitting methods yields different results.\n",
        "\n",
        "2. [1 pt] Based on what you found was wrong with the code below, make a change to the splitting method (it may not be onethat we have previously discussed before, so read the documentation carefully) and print out the new cross validation scores. Make sure they match the previous cell. You should not need to change anything in the for-loop, just the code before it."
      ]
    },
    {
      "cell_type": "code",
      "execution_count": 12,
      "id": "56224271",
      "metadata": {
        "colab": {
          "base_uri": "https://localhost:8080/",
          "height": 0
        },
        "id": "56224271",
        "outputId": "26eab239-b104-440a-e985-95e5dda36488"
      },
      "outputs": [
        {
          "output_type": "stream",
          "name": "stdout",
          "text": [
            "0.9753603754609453\n",
            "0.9723432785786121\n",
            "0.9738518270197788\n"
          ]
        }
      ],
      "source": [
        "k_fold = KFold(n_splits=3, shuffle=False)\n",
        "\n",
        "from sklearn.model_selection import StratifiedKFold\n",
        "k_fold = StratifiedKFold(n_splits=3, shuffle=False)\n",
        "\n",
        "# ---------- DO NOT CHANGE CODE HERE ---------\n",
        "for k, (train, test) in enumerate(k_fold.split(X,y)):\n",
        "    clf.fit(X[train],y[train])\n",
        "    ypred = clf.predict(X[test])\n",
        "    print ( clf.score(X[test],y[test]) )\n",
        "# --------------------------------------------\n"
      ]
    },
    {
      "cell_type": "markdown",
      "id": "42574fff",
      "metadata": {
        "id": "42574fff"
      },
      "source": [
        "For Problems 3 and 4, we will use the following stratified shuffle split. Make sure you run the next cell to obtain the correct `X_train`, `y_train`, `X_test`, `y_test`.\n",
        "\n",
        "> Add blockquote\n",
        "\n"
      ]
    },
    {
      "cell_type": "code",
      "execution_count": 13,
      "id": "218e80e9",
      "metadata": {
        "id": "218e80e9"
      },
      "outputs": [],
      "source": [
        "# RUN THIS CELL!\n",
        "\n",
        "# ---------- DO NOT CHANGE CODE HERE ---------\n",
        "sss = StratifiedShuffleSplit(n_splits=1, test_size=1/3, random_state=0)\n",
        "for train_idx, test_idx in sss.split(X, y):\n",
        "    X_train, y_train = X[train_idx], y[train_idx]\n",
        "    X_test, y_test = X[test_idx], y[test_idx]\n",
        "# --------------------------------------------"
      ]
    },
    {
      "cell_type": "markdown",
      "id": "91039e13",
      "metadata": {
        "id": "91039e13"
      },
      "source": [
        "## 3 Decision Tree"
      ]
    },
    {
      "cell_type": "markdown",
      "id": "aed4cf75",
      "metadata": {
        "id": "aed4cf75"
      },
      "source": [
        "### 3.1 Train\n",
        "**Task:**\n",
        "\n",
        "[5 pt] Fit decision tree classifiers with different depths to the training data using `sklearn.tree.DecisionTreeClassifier`.\n",
        "- In the decision tree classifier, fix `random_state=0`.\n",
        "- Store the accuracy of the prediction on training and test data in the arrays `train_acc_dt` and `test_acc_dt` respectively.\n",
        "- Let `max_depth` vary from 1, 3, 5, ..., 19, 21. To do this, define array `depths` accordingly and run a for-loop over it."
      ]
    },
    {
      "cell_type": "code",
      "execution_count": 18,
      "id": "78c6857a",
      "metadata": {
        "colab": {
          "base_uri": "https://localhost:8080/",
          "height": 0
        },
        "id": "78c6857a",
        "outputId": "52818138-8de6-41e3-d829-21e22f2539a2"
      },
      "outputs": [
        {
          "output_type": "stream",
          "name": "stdout",
          "text": [
            "Depth: 1, Training Accuracy: 0.9774555816292323, Test Accuracy: 0.9783774723432785\n",
            "Depth: 3, Training Accuracy: 0.9785450888367415, Test Accuracy: 0.9775393898759638\n",
            "Depth: 5, Training Accuracy: 0.9829869259135099, Test Accuracy: 0.9778746228628897\n",
            "Depth: 7, Training Accuracy: 0.9862554475360376, Test Accuracy: 0.9761984579282601\n",
            "Depth: 9, Training Accuracy: 0.9893563526651022, Test Accuracy: 0.9753603754609453\n",
            "Depth: 11, Training Accuracy: 0.9927086825343614, Test Accuracy: 0.9738518270197788\n",
            "Depth: 13, Training Accuracy: 0.9945524639624539, Test Accuracy: 0.9730137445524639\n",
            "Depth: 15, Training Accuracy: 0.9963962453905464, Test Accuracy: 0.9710023466309085\n",
            "Depth: 17, Training Accuracy: 0.9978209855849816, Test Accuracy: 0.9694937981897419\n",
            "Depth: 19, Training Accuracy: 0.9986590680522963, Test Accuracy: 0.968655715722427\n",
            "Depth: 21, Training Accuracy: 0.9992457257794167, Test Accuracy: 0.9673147837747235\n"
          ]
        }
      ],
      "source": [
        "from sklearn.metrics import accuracy_score\n",
        "\n",
        "# TOD\n",
        "depths = range(1, 22, 2)\n",
        "\n",
        "train_acc_dt = []\n",
        "test_acc_dt = []\n",
        "\n",
        "for i, depth in enumerate(depths):\n",
        "    clf = DecisionTreeClassifier(max_depth=depth, random_state=0)\n",
        "\n",
        "    clf.fit(X_train, y_train)\n",
        "\n",
        "    y_pred_train = clf.predict(X_train)\n",
        "    y_pred_test = clf.predict(X_test)\n",
        "\n",
        "    train_acc = accuracy_score(y_train, y_pred_train)\n",
        "    test_acc = accuracy_score(y_test, y_pred_test)\n",
        "    train_acc_dt.append(train_acc)\n",
        "    test_acc_dt.append(test_acc)\n",
        "\n",
        "    print(f\"Depth: {depth}, Training Accuracy: {train_acc}, Test Accuracy: {test_acc}\")\n"
      ]
    },
    {
      "cell_type": "markdown",
      "id": "4a3e68af",
      "metadata": {
        "id": "4a3e68af"
      },
      "source": [
        "### 3.2 Plot\n",
        "**Task:**\n",
        "\n",
        "[1 pt] Plot accuracy (test and training as seperate curves) against depth. Run the following cell."
      ]
    },
    {
      "cell_type": "code",
      "execution_count": 19,
      "id": "ae0e45f1",
      "metadata": {
        "colab": {
          "base_uri": "https://localhost:8080/",
          "height": 449
        },
        "id": "ae0e45f1",
        "outputId": "499dc490-f36c-444c-90f1-acc14b6b7532"
      },
      "outputs": [
        {
          "output_type": "display_data",
          "data": {
            "text/plain": [
              "<Figure size 640x480 with 1 Axes>"
            ],
            "image/png": "[encoded data removed]"
          },
          "metadata": {}
        }
      ],
      "source": [
        "plt.plot(depths, train_acc_dt, 'o-', label='train')\n",
        "plt.plot(depths, test_acc_dt, 'o-', label='test')\n",
        "plt.xticks(depths); plt.xlabel('depth'); plt.ylabel('accuracy')\n",
        "plt.legend(); plt.grid(); plt.show()"
      ]
    },
    {
      "cell_type": "markdown",
      "id": "46192243",
      "metadata": {
        "id": "46192243"
      },
      "source": [
        "### 3.3 Discussion\n",
        "[2pts] What trends do you observe in the training and test accuracies as depth increases? Explain these trends.\n",
        "\n",
        "**Ans:** This is a classic case of overfitting. As the depth of the tree increases, the training accuracy improves because greater depth means the tree can be more complex due to having more decision nodes and can capture more nuances within the training data it is given. However, although training accuracy continues to improve, test accuracy falls at greater depths as the depth keeps increasing. This is because the tree became too complex and began fitting to the noise of the training data instead of general patterns, thus resulting in the decrease in test accuracy. This phenomenon is overfitting, a too complex model overfit to the training data so it's performance suffers on test data"
      ]
    },
    {
      "cell_type": "markdown",
      "id": "3befd3b4",
      "metadata": {
        "id": "3befd3b4"
      },
      "source": [
        "## 4 Random Forest\n",
        "### 4.1 Train\n",
        "**Task:**\n",
        "\n",
        "[5 pt] Fit random forest classifiers to the training data using `sklearn.ensemble.RandomForestClassifier`.\n",
        "- In the random forest classifier, fix `max_depth=3` and `random_state=0`.\n",
        "- Store the accuracy of the prediction on training and test data in the arrays `train_acc_rf` and `test_acc_rf` respectively.\n",
        "- Let `n_estimators` vary from 1, 11, 21, ..., 91, 101. To do this, define array `n_ests` accordingly and run a loop over it."
      ]
    },
    {
      "cell_type": "code",
      "execution_count": 22,
      "id": "c3045ede",
      "metadata": {
        "colab": {
          "base_uri": "https://localhost:8080/",
          "height": 0
        },
        "id": "c3045ede",
        "outputId": "49199d65-67d8-4978-877b-91411b92c4cb"
      },
      "outputs": [
        {
          "output_type": "stream",
          "name": "stdout",
          "text": [
            "n_estimators: 1, Training Accuracy: 0.9748575259805565, Test Accuracy: 0.9751927589674824\n",
            "n_estimators: 11, Training Accuracy: 0.9772879651357693, Test Accuracy: 0.9755279919544083\n",
            "n_estimators: 21, Training Accuracy: 0.9783774723432785, Test Accuracy: 0.976533690915186\n",
            "n_estimators: 31, Training Accuracy: 0.97846128059001, Test Accuracy: 0.977036540395575\n",
            "n_estimators: 41, Training Accuracy: 0.978964130070399, Test Accuracy: 0.9777070063694268\n",
            "n_estimators: 51, Training Accuracy: 0.9787127053302045, Test Accuracy: 0.9775393898759638\n",
            "n_estimators: 61, Training Accuracy: 0.978964130070399, Test Accuracy: 0.9777070063694268\n",
            "n_estimators: 71, Training Accuracy: 0.9792993630573248, Test Accuracy: 0.9777070063694268\n",
            "n_estimators: 81, Training Accuracy: 0.9791317465638619, Test Accuracy: 0.9778746228628897\n",
            "n_estimators: 91, Training Accuracy: 0.978964130070399, Test Accuracy: 0.9778746228628897\n",
            "n_estimators: 101, Training Accuracy: 0.9790479383171304, Test Accuracy: 0.9777070063694268\n"
          ]
        }
      ],
      "source": [
        "from sklearn.ensemble import RandomForestClassifier\n",
        "\n",
        "# TOD\n",
        "n_ests = range(1, 102, 10)\n",
        "\n",
        "train_acc_rf = []\n",
        "test_acc_rf = []\n",
        "\n",
        "for n_est in n_ests:\n",
        "    rf_clf = RandomForestClassifier(n_estimators=n_est, max_depth=3, random_state=0)\n",
        "\n",
        "    rf_clf.fit(X_train, y_train)\n",
        "\n",
        "    y_train_pred = rf_clf.predict(X_train)\n",
        "    y_test_pred = rf_clf.predict(X_test)\n",
        "\n",
        "    train_acc_rf.append(accuracy_score(y_train, y_train_pred))\n",
        "    test_acc_rf.append(accuracy_score(y_test, y_test_pred))\n",
        "\n",
        "    print(f\"n_estimators: {n_est}, Training Accuracy: {train_acc_rf[-1]}, Test Accuracy: {test_acc_rf[-1]}\")\n"
      ]
    },
    {
      "cell_type": "markdown",
      "id": "e4481c07",
      "metadata": {
        "id": "e4481c07"
      },
      "source": [
        "### 4.2 Plot\n",
        "[1 pt] Plot accuracy (test and training as seperate curves) against number of estimators. Run the following cell."
      ]
    },
    {
      "cell_type": "code",
      "execution_count": 23,
      "id": "8daedbab",
      "metadata": {
        "colab": {
          "base_uri": "https://localhost:8080/",
          "height": 449
        },
        "id": "8daedbab",
        "outputId": "a945c859-77e5-4603-bc02-b5b6dd57ad65"
      },
      "outputs": [
        {
          "output_type": "display_data",
          "data": {
            "text/plain": [
              "<Figure size 640x480 with 1 Axes>"
            ],
            "image/png": "[encoded data removed]"
          },
          "metadata": {}
        }
      ],
      "source": [
        "plt.plot(n_ests, train_acc_rf, 'o-', label='train')\n",
        "plt.plot(n_ests, test_acc_rf, 'o-', label='test')\n",
        "plt.xticks(n_ests); plt.xlabel('num of estimators'); plt.ylabel('accuracy');\n",
        "plt.legend(); plt.grid(); plt.show()"
      ]
    },
    {
      "cell_type": "markdown",
      "id": "9fa17a62",
      "metadata": {
        "id": "9fa17a62"
      },
      "source": [
        "### 4.3 Discussion\n",
        "[1 pt] What trends do you observe in the training and test accuracies as `n_estimators` increases? Briefly explain why these trends occured. You are not expected to give an overly detailed response because the exact mechanism of random forest was not covered extensively in lecture.\n",
        "\n",
        "**Ans:** As the num estimators increases, it seems like the train and test accuracy improved. It improved greatly early on, and then seems to relatively stabilize around 41 estimators and goes up and down, possibly showing diminishing returns past this point. This is likely because early on, any additional num estimators greatly increases the model's abilities to capture patterns in the training data and this translated to the test data as well. The test accuracy didn't sharply decline like the decision tree model before did because it is the average result of many trees, although each tree may have some variance having a large n leads to better majority voting schemes, so overfitting doesn't happen due to the collection so less variance.\n"
      ]
    },
    {
      "cell_type": "markdown",
      "id": "7ebaf680",
      "metadata": {
        "id": "7ebaf680"
      },
      "source": []
    }
  ],
  "metadata": {
    "kernelspec": {
      "display_name": "Python 3 (ipykernel)",
      "language": "python",
      "name": "python3"
    },
    "language_info": {
      "codemirror_mode": {
        "name": "ipython",
        "version": 3
      },
      "file_extension": ".py",
      "mimetype": "text/x-python",
      "name": "python",
      "nbconvert_exporter": "python",
      "pygments_lexer": "ipython3",
      "version": "3.9.1"
    },
    "colab": {
      "provenance": []
    }
  },
  "nbformat": 4,
  "nbformat_minor": 5
}