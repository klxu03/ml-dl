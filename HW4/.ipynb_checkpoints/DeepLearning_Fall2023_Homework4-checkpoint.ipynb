{
  "cells": [
    {
      "cell_type": "markdown",
      "metadata": {
        "id": "X3G5iOckPDFC"
      },
      "source": [
        "# Deep Learning (Fall 2023) - Homework 4\n",
        "\n",
        "*Developed by Hongtau Wu & Suzanna Sia. Modified by Ping-Cheng Ku*\n",
        "\n",
        "This notebook contains all starter code for Homework 4. Please read the written assignment carefully to ensure you include all necessary outputs in your final report. Your submission to Homework 4-notebook should include this notebook (.ipynb file), and a PDF (.pdf) of this notebook, and the hw4_utils.py file."
      ]
    },
    {
      "cell_type": "markdown",
      "metadata": {
        "id": "k-QLXT-YPDFE"
      },
      "source": [
        "## Problem 1a)"
      ]
    },
    {
      "cell_type": "markdown",
      "metadata": {
        "id": "vgqW4Ud3PDFE"
      },
      "source": [
        "### Imports"
      ]
    },
    {
      "cell_type": "code",
      "execution_count": null,
      "metadata": {
        "id": "ZwpCO80kPDFF"
      },
      "outputs": [],
      "source": [
        "## External Libararies\n",
        "import numpy as np\n",
        "import matplotlib\n",
        "import matplotlib.pyplot as plt\n",
        "from matplotlib.patches import Polygon\n",
        "from matplotlib.collections import PatchCollection"
      ]
    },
    {
      "cell_type": "markdown",
      "metadata": {
        "id": "GdNgZM70PDFF"
      },
      "source": [
        "### Data Loading"
      ]
    },
    {
      "cell_type": "code",
      "execution_count": null,
      "metadata": {
        "id": "c92eg0MRracO",
        "colab": {
          "base_uri": "https://localhost:8080/"
        },
        "outputId": "6c09a3c9-fa50-438d-cbe9-e0785fdf59ac"
      },
      "outputs": [
        {
          "output_type": "stream",
          "name": "stdout",
          "text": [
            "Y: (60000,)\n",
            "X: (60000, 2)\n"
          ]
        }
      ],
      "source": [
        "# Spectify Path to Provided Data Here\n",
        "DATA_PATH = 'fall23_hw4_prob2_data.npy'\n",
        "\n",
        "## Load Data and Check Dimensionality\n",
        "data = np.load(DATA_PATH)\n",
        "Y = data[:,2]\n",
        "X = data[:,0:2]\n",
        "print(\"Y:\", Y.shape)\n",
        "print(\"X:\", X.shape)\n",
        "\n",
        "## Polygon Boundaries\n",
        "p = [[[500, 1000], [300, 800], [400, 600], [600, 600], [700, 800]],\n",
        "     [[500, 600], [100, 400], [300, 200], [700, 200], [900, 400]]]\n",
        "p = np.asarray(p)\n",
        "p0 = p[0]\n",
        "p1 = p[1]"
      ]
    },
    {
      "cell_type": "markdown",
      "metadata": {
        "id": "fw0Qur2lPDFG"
      },
      "source": [
        "### Visualization Code\n",
        "\n",
        "Do not touch any of the visualization code below."
      ]
    },
    {
      "cell_type": "code",
      "execution_count": null,
      "metadata": {
        "id": "pLtNWWcIvVYk"
      },
      "outputs": [],
      "source": [
        "## Helper code for visualisation (No Need to Touch)\n",
        "def visualize_polygons(p0, p1):\n",
        "\n",
        "    fig, ax = plt.subplots()\n",
        "    patches = []\n",
        "    polygon1 = Polygon(p0, True)\n",
        "    polygon2 = Polygon(p1, True)\n",
        "    patches.append(polygon1)\n",
        "    patches.append(polygon2)\n",
        "    p = PatchCollection(patches, cmap=matplotlib.cm.jet, alpha=0.4)\n",
        "    ax.add_collection(p)\n",
        "    ax.autoscale_view()\n",
        "    plt.show()\n",
        "\n",
        "def visualize_datapoints(X, Y):\n",
        "\n",
        "    assert(X.shape[0] == Y.shape[0])\n",
        "    fig, ax = plt.subplots()\n",
        "    npts = 60000\n",
        "    col = np.where(Y[:npts]==1,'m','b')\n",
        "    x1 = X[:npts][:,0]\n",
        "    x2 = X[:npts][:,1]\n",
        "    ax.scatter(x1, x2, s=0.5, c=col, zorder=1)\n",
        "    plt.show()"
      ]
    },
    {
      "cell_type": "code",
      "execution_count": null,
      "metadata": {
        "id": "3yDFI7mZ5SyV",
        "colab": {
          "base_uri": "https://localhost:8080/",
          "height": 519
        },
        "outputId": "35474584-041c-4b80-ab56-f0c34428e5c2"
      },
      "outputs": [
        {
          "output_type": "stream",
          "name": "stderr",
          "text": [
            "<ipython-input-4-b539349a2d90>:6: MatplotlibDeprecationWarning: Passing the closed parameter of __init__() positionally is deprecated since Matplotlib 3.6; the parameter will become keyword-only two minor releases later.\n",
            "  polygon1 = Polygon(p0, True)\n",
            "<ipython-input-4-b539349a2d90>:7: MatplotlibDeprecationWarning: Passing the closed parameter of __init__() positionally is deprecated since Matplotlib 3.6; the parameter will become keyword-only two minor releases later.\n",
            "  polygon2 = Polygon(p1, True)\n"
          ]
        },
        {
          "output_type": "display_data",
          "data": {
            "text/plain": [
              "<Figure size 640x480 with 1 Axes>"
            ],
            "image/png": "[encoded data removed]"
          },
          "metadata": {}
        }
      ],
      "source": [
        "visualize_polygons(p0,p1)"
      ]
    },
    {
      "cell_type": "markdown",
      "metadata": {
        "id": "SsqPNsS4tcZz"
      },
      "source": [
        "\n",
        "Please fill in all code blocks marked with a #TODO."
      ]
    },
    {
      "cell_type": "code",
      "execution_count": null,
      "metadata": {
        "id": "MHQygwY0pcDl"
      },
      "outputs": [],
      "source": [
        "def threshold_activation1(x):\n",
        "    \"\"\"\n",
        "    TODO: Implement one activation function (unit step function)\n",
        "\n",
        "    Args:\n",
        "      x (np.ndarray): input array\n",
        "\n",
        "    Returns (np.ndarray): output array (with the same shape as input array)\n",
        "\n",
        "    \"\"\"\n",
        "    # TODO:\n",
        "\n",
        "    return None\n",
        "\n",
        "\n",
        "def and_gate(x):\n",
        "    \"\"\"\n",
        "    TODO: Implement an \"AND\" gate\n",
        "\n",
        "    Args:\n",
        "      x (np.ndarray): array with shape (n, 1), representing n neurons as inputs.\n",
        "\n",
        "    Returns: (int): scalar of 1 or 0\n",
        "    \"\"\"\n",
        "    # TODO:\n",
        "\n",
        "    return None\n",
        "\n",
        "\n",
        "def or_gate(x):\n",
        "    \"\"\"\n",
        "    TODO: Implement an \"OR\" gate\n",
        "\n",
        "    Args:\n",
        "      x (np.ndarray): array with shape (n, 1)\n",
        "\n",
        "    Returns: (int): scalar of 1 or 0\n",
        "    \"\"\"\n",
        "    # TODO:\n",
        "\n",
        "    return None\n",
        "\n",
        "def analytical_parameters(p0, p1):\n",
        "    \"\"\"\n",
        "\n",
        "    \"\"\"\n",
        "    ## Dimensionality\n",
        "    x_dim = 2\n",
        "    class_num = 2\n",
        "    hidden_unit_num = 10\n",
        "    # First Layer Parameter\n",
        "    W = np.zeros((hidden_unit_num, x_dim))\n",
        "    b = np.zeros((hidden_unit_num, 1))\n",
        "    for i in range(5):\n",
        "        # First polygon\n",
        "        x1 = p0[i, 0]\n",
        "        y1 = p0[i, 1]\n",
        "        x2 = p0[(i+1)%5, 0]\n",
        "        y2 = p0[(i+1)%5, 1]\n",
        "        W[i, :] = [y1 - y2, x2 - x1]\n",
        "        b[i, :] = x1 * y2 - x2 * y1\n",
        "        # Second polygon\n",
        "        x1 = p1[i, 0]\n",
        "        y1 = p1[i, 1]\n",
        "        x2 = p1[(i+1)%5, 0]\n",
        "        y2 = p1[(i+1)%5, 1]\n",
        "        W[i + 5, :] = [y1 - y2, x2 - x1]\n",
        "        b[i + 5, :] = x1 * y2 - x2 * y1\n",
        "    return W,b\n",
        "\n",
        "def predict_output_v1(X, W, b):\n",
        "\n",
        "    predictions = []\n",
        "    for idx in range(data.shape[0]):\n",
        "        x = np.reshape(X[idx, :], (2, 1))     # x.shape (2,1)\n",
        "        # First layer\n",
        "        # W.shape (10, 2), b.shape (10, 1)\n",
        "        first_layer_output = np.matmul(W, x) + b # first_layer_output.shape (10, 1)\n",
        "        first_layer_output = threshold_activation1(first_layer_output) #first_layer_output.shape (10, 1)\n",
        "        # Second layer\n",
        "        first_polygon = first_layer_output[0:5, :]\n",
        "        second_polygon = first_layer_output[5:10, :]\n",
        "        first_gate_output = and_gate(first_polygon)\n",
        "        second_gate_output = and_gate(second_polygon)\n",
        "        # Output layer\n",
        "        input_to_final_gate = [first_gate_output, second_gate_output]\n",
        "        prediction = or_gate(input_to_final_gate)\n",
        "        predictions.append(prediction)\n",
        "    return predictions\n",
        "\n",
        "def predict_output_v2(X, W, b):\n",
        "    \"\"\"\n",
        "    #TODO: Update usage of the gates in this function\n",
        "    \"\"\"\n",
        "    ## Cache of Predictions\n",
        "    predictions = []\n",
        "    ## Cycle Trhough Data Points\n",
        "    for idx in range(data.shape[0]):\n",
        "        x = np.reshape(X[idx, :], (2, 1))\n",
        "        # First layer\n",
        "        first_layer_output = np.matmul(W, x) + b\n",
        "        first_layer_output = threshold_activation1(first_layer_output)\n",
        "        # Second layer\n",
        "        first_polygon = first_layer_output[0:5, :]\n",
        "        second_polygon = first_layer_output[5:10, :]\n",
        "        first_gate_output = and_gate(first_polygon)\n",
        "        second_gate_output = and_gate(second_polygon)\n",
        "        # Output layer\n",
        "        input_to_final_gate = [first_gate_output, second_gate_output]\n",
        "        prediction = or_gate(input_to_final_gate)\n",
        "        predictions.append(prediction)\n",
        "    return predictions\n",
        "\n",
        "def calc_accuracy(true_y, pred_y):\n",
        "    \"\"\"\n",
        "\n",
        "    \"\"\"\n",
        "    true_prediction_num = 0\n",
        "    for i, py in enumerate(pred_y):\n",
        "        if py == true_y[i]:\n",
        "            true_prediction_num += 1\n",
        "    accuracy = true_prediction_num / len(pred_y)\n",
        "    print(\"Accuracy: \", accuracy)\n",
        "    return accuracy"
      ]
    },
    {
      "cell_type": "markdown",
      "metadata": {
        "id": "gSnNFYhu0gDC"
      },
      "source": [
        "*Sanity check:* If you correctly implemented the 'and gate' and 'or gate', all points should be classified correctly when you make predictions using `predict_output_v1()`. You should provide the datapoint visualization plot and the accuracy in your report submission.\n",
        "\n"
      ]
    },
    {
      "cell_type": "code",
      "execution_count": null,
      "metadata": {
        "id": "pknSuuIXrG7Y"
      },
      "outputs": [],
      "source": [
        "## Load Our Parameters\n",
        "W, b = analytical_parameters(p0, p1)\n",
        "\n",
        "## Make Predictions\n",
        "pred_Y = predict_output_v1(X, W, b)\n",
        "\n",
        "## Compute Accuracy\n",
        "acc = calc_accuracy(Y, pred_Y)\n",
        "assert (acc == 1)\n",
        "\n",
        "## Visualize Predictions\n",
        "visualize_datapoints(X, np.array(pred_Y))"
      ]
    },
    {
      "cell_type": "markdown",
      "metadata": {
        "id": "ME0TSvkX2KWg"
      },
      "source": [
        "In the code above, change the gates in `predict_output_v2()` such that only the points in the top polygon are classified correctly. Visualize your result, report the accuracy of this model, and attach it to the report submission.\n",
        "\n",
        "To further clarify, you should **only** change the usage of the gating functions, not the code inside the gating function itself."
      ]
    },
    {
      "cell_type": "code",
      "execution_count": null,
      "metadata": {
        "id": "szTyPVIp1nXq"
      },
      "outputs": [],
      "source": [
        "## Load Our Parameters\n",
        "W, b = analytical_parameters(p0, p1)\n",
        "\n",
        "## Make Predictions\n",
        "pred_Y = predict_output_v2(X, W, b)\n",
        "\n",
        "## Visualize Predictions\n",
        "visualize_datapoints(X, np.array(pred_Y))"
      ]
    },
    {
      "cell_type": "markdown",
      "metadata": {
        "id": "216MojZrPDFJ"
      },
      "source": [
        "## Problem 1b-d\n",
        "\n",
        "Complete problems 1b through 1d in the space below. Please use markdown to clearly distinguish your answers for each part. Include appropriate visualizations generated here in your final report.\n"
      ]
    },
    {
      "cell_type": "code",
      "execution_count": null,
      "metadata": {
        "id": "QOMhe2lu7mC5"
      },
      "outputs": [],
      "source": [
        "import torch\n",
        "import torch.nn as nn\n",
        "import random"
      ]
    },
    {
      "cell_type": "code",
      "source": [
        "## HyperParameters (Do not adjust for Question 1b)##\n",
        "\n",
        "n_epoch = 500\n",
        "n_seed = 5\n",
        "lr = 1\n",
        "batch_size = 5000\n",
        "\n",
        "test_split = 1/6\n",
        "\n",
        "layer_1_node = 10\n",
        "layer_2_node = 2\n",
        "\n",
        "#######################\n",
        "layer_dims = [layer_1_node, layer_2_node]\n",
        "seed_values = [random.randint(0, 10000) for _ in range(5)]"
      ],
      "metadata": {
        "id": "Fj9rQKyRfdCX"
      },
      "execution_count": null,
      "outputs": []
    },
    {
      "cell_type": "markdown",
      "source": [
        "Complete the implementation of the MLP class and preprocess_data function below. Refer to the pytorch API to understand how a proper model (module) should be set up and initialized."
      ],
      "metadata": {
        "id": "VQj50T6Du2xc"
      }
    },
    {
      "cell_type": "code",
      "source": [
        "class MLP(nn.Module):\n",
        "    \"\"\"\n",
        "    MLP class to create a multi-layer perceptron dynamically.\n",
        "\n",
        "    Args:\n",
        "        input_dim (int): The dimensionality of the input features.\n",
        "        layers_dims (list of int): A list specifying the number of units in each hidden layer.\n",
        "        output_dim (int): The dimensionality of the output.\n",
        "        seed_value (int, optional): Random seed for reproducibility. If this is set to None, no manual seed is set.\n",
        "\n",
        "    Attributes:\n",
        "        layers (nn.ModuleList): A ModuleList to hold all the layers including input, hidden and output layers.\n",
        "    \"\"\"\n",
        "\n",
        "    def __init__(self, input_dim, layers_dims, output_dim, seed_value=None):\n",
        "        \"\"\"\n",
        "        Initialize MLP.\n",
        "        \"\"\"\n",
        "        super(MLP, self).__init__()\n",
        "\n",
        "        ## TODO:\n",
        "\n",
        "        self.layers = nn.ModuleList()\n",
        "\n",
        "        self._initialize_weights()\n",
        "\n",
        "\n",
        "    def _initialize_weights(self):\n",
        "        \"\"\"\n",
        "        Initialize the weights and biases of the model.\n",
        "        \"\"\"\n",
        "\n",
        "        ## TODO:\n",
        "\n",
        "\n",
        "    def forward(self, x):\n",
        "        \"\"\"\n",
        "        Forward pass through the network.\n",
        "\n",
        "        Args:\n",
        "            x (torch.Tensor): input tensor.\n",
        "\n",
        "        Returns:\n",
        "            torch.Tensor: output tensor.\n",
        "        \"\"\"\n",
        "        # TODO:\n",
        "\n",
        "\n",
        "        return None"
      ],
      "metadata": {
        "id": "VfnSXlhef4oT"
      },
      "execution_count": null,
      "outputs": []
    },
    {
      "cell_type": "code",
      "source": [
        "def preprocess_data(X, Y, test_split=1/6):\n",
        "  \"\"\"\n",
        "  Base on your observation of the dataset, perform any necessary preprocessing steps given data X and label Y\n",
        "\n",
        "  Args:\n",
        "    X, Y (np.ndarry): input arrays\n",
        "    test_split (float): proportion of data to use for test set (default is set to 1/6)\n",
        "\n",
        "  Return:\n",
        "    X_train, X_test, y_train, y_test (torch.Tensor): output tensor objects for training/testing.\n",
        "\n",
        "  \"\"\"\n",
        "\n",
        "  # Note - If you plan to use additional functions, please define them as inner functions\n",
        "  # under preprocess_data. This will allow us to export preprocess_data function and test\n",
        "  # it thorough autograder properly. For instance:\n",
        "\n",
        "  # ... def preprocess_data(X, Y, test_split):\n",
        "  # ...\n",
        "  # ...     def inner_func():\n",
        "  # ...         print(\"Hello, World!\")\n",
        "  # ...\n",
        "  # ...     inner_func()\n",
        "\n",
        "  # Tips: For debugging purposes, it is a good practice to perform unit tests on your inner functions\n",
        "  # before you place them under the preprocess_data function.\n",
        "\n",
        "  # TODO:\n",
        "\n",
        "\n",
        "  return (X_train, X_test, y_train, y_test)\n"
      ],
      "metadata": {
        "id": "AzqmsByRQB1q"
      },
      "execution_count": null,
      "outputs": []
    },
    {
      "cell_type": "code",
      "source": [
        "# Reload the data\n",
        "data = np.load(DATA_PATH)\n",
        "\n",
        "Y = data[:,2]\n",
        "X = data[:,0:2]\n",
        "\n",
        "X_train, X_test, y_train, y_test = preprocess_data(X, Y, test_split)"
      ],
      "metadata": {
        "id": "Tcczb3jxO-8r"
      },
      "execution_count": null,
      "outputs": []
    },
    {
      "cell_type": "markdown",
      "source": [
        "Implement the train loop (for a single run)\n"
      ],
      "metadata": {
        "id": "gdfOuXaRZ7IK"
      }
    },
    {
      "cell_type": "code",
      "source": [
        "def train(model,\n",
        "          loss_f,\n",
        "          optimizer,\n",
        "          X_train,\n",
        "          y_train,\n",
        "          X_test=None,\n",
        "          y_test=None,\n",
        "          n_epoch=500,\n",
        "          batch_size=None,\n",
        "          seed_value=0):\n",
        "    \"\"\"\n",
        "      The main function for model training.\n",
        "\n",
        "      Args:\n",
        "        model (torch.nn.Module): model to train\n",
        "        loss_f (torch.nn.Module): loss function\n",
        "        optimizer (torch.optim.Optimizer): optimizer\n",
        "        X_train, y_train (torch.Tensor): training data\n",
        "        X_test, y_test (torch.Tensor): test data\n",
        "        n_epoch (int): number of epochs\n",
        "        batch_size (int): size of the batch\n",
        "        seed_value (int): random seed value\n",
        "\n",
        "      Returns:\n",
        "        .... (to be added by student)\n",
        "\n",
        "    \"\"\"\n",
        "\n",
        "    # TODO: Complete the train function. You need to implement mini-batch training for this question.\n",
        "    #\n",
        "    # Tips: Perform proper sanity checks to ensure your inputs are reasonable. Keep track of important variables\n",
        "    # (loss, accuracy) throughout the training loop. Print intermediate values reguarly to help you track if\n",
        "    # your training is working as intended (so that if something is wrong you can terminate the process early\n",
        "    # instead of going through all 5 runs.)\n",
        "\n",
        "    return None"
      ],
      "metadata": {
        "id": "2Oe0UnyZS4-G"
      },
      "execution_count": null,
      "outputs": []
    },
    {
      "cell_type": "markdown",
      "source": [
        "Now we start the training. We will iterate through 5 runs. To ensure reproducibility of the performance, we will be using the seed values to initialize our MLP and in our training loop. After the training, you should \"**check if you can get the same model accuracy if a seed is re-used**\"."
      ],
      "metadata": {
        "id": "CwvFIPKpebBr"
      }
    },
    {
      "cell_type": "code",
      "source": [
        "# TODO: complete the cell\n",
        "\n",
        "## Iterate over Random Initializations\n",
        "for idx in range(len(seed_values)):\n",
        "\n",
        "    seed_value = seed_values[idx]\n",
        "    print(\"~~ Beginning run {} with seed value {} ~~\".format(idx, seed_value))\n"
      ],
      "metadata": {
        "id": "U11ukvG1nRst"
      },
      "execution_count": null,
      "outputs": []
    },
    {
      "cell_type": "code",
      "source": [
        "# TODO: Plot Results (Please plot the loss of all 5 runs in a same figure, and\n",
        "# the accuracy of the runs in another figure). Use visualize_datapoints to check\n",
        "# the performance of your model."
      ],
      "metadata": {
        "id": "8RbsDiBir2z0"
      },
      "execution_count": null,
      "outputs": []
    },
    {
      "cell_type": "code",
      "source": [
        "# Problem 1c: make adjustments to the layers, and then re-run the training loop with 5 runs and visualizations\n",
        "\n",
        "## Hyperparameters\n",
        "\n",
        "n_epoch = 500\n",
        "n_seed = 5\n",
        "lr = 1\n",
        "batch_size = 5000\n",
        "\n",
        "test_split = 1/6\n",
        "\n",
        "layer_dims = []\n",
        "\n",
        "##########################\n",
        "seed_values = [random.randint(0, 10000) for _ in range(5)]"
      ],
      "metadata": {
        "id": "i5LLLQSGOhXP"
      },
      "execution_count": null,
      "outputs": []
    },
    {
      "cell_type": "markdown",
      "source": [
        "For Problem 1d, please write your response in the Latex report."
      ],
      "metadata": {
        "id": "cHbyQC_ZO4YZ"
      }
    },
    {
      "cell_type": "markdown",
      "metadata": {
        "id": "7sxSgG9wPDFK"
      },
      "source": [
        "## Problem 2\n",
        "\n",
        "All code for Problem 2 should go below. We provide data loaders and relevant imports to get you started. If you are working locally (instead of using Google Colab), we recommend using Conda to install pytorch (https://pytorch.org).\n",
        "\n",
        "### Imports"
      ]
    },
    {
      "cell_type": "code",
      "execution_count": null,
      "metadata": {
        "id": "fcocBj9hPDFK"
      },
      "outputs": [],
      "source": [
        "## Additional External Libraries (Deep Learning)\n",
        "import torch\n",
        "import torch.nn as nn\n",
        "from torch.autograd import Variable\n",
        "from torch.utils.data import Dataset, DataLoader, SubsetRandomSampler\n",
        "from torchvision import transforms as tfs\n",
        "from PIL import Image\n",
        "from torchvision.datasets import FashionMNIST"
      ]
    },
    {
      "cell_type": "markdown",
      "metadata": {
        "id": "yKYtXumUPDFK"
      },
      "source": [
        "### Data Loading"
      ]
    },
    {
      "cell_type": "code",
      "execution_count": null,
      "metadata": {
        "id": "oGEgukvLPDFK"
      },
      "outputs": [],
      "source": [
        "# Hyperparameter (Feel free to make modifications)\n",
        "TRAIN_BATCH_SIZE = 50\n",
        "VAL_BATCH_SIZE = 50\n",
        "TEST_BATCH_SIZE = 1\n",
        "\n",
        "# Transform data to PIL images\n",
        "transforms = tfs.Compose([tfs.ToTensor()])\n",
        "\n",
        "# Train/Val Subsets\n",
        "train_mask = range(50000)\n",
        "val_mask = range(50000, 60000)\n",
        "\n",
        "# Download/Load Dataset\n",
        "train_dataset = FashionMNIST('./data', train=True, transform=transforms, download=True)\n",
        "test_dataset = FashionMNIST('./data', train=False, transform=transforms, download=True)\n",
        "\n",
        "# Data Loaders\n",
        "train_dataloader = DataLoader(train_dataset, batch_size=TRAIN_BATCH_SIZE, sampler=SubsetRandomSampler(train_mask))\n",
        "val_dataloader = DataLoader(train_dataset, batch_size=VAL_BATCH_SIZE, sampler=SubsetRandomSampler(val_mask))\n",
        "test_dataloader = DataLoader(test_dataset, batch_size=TEST_BATCH_SIZE)"
      ]
    },
    {
      "cell_type": "markdown",
      "metadata": {
        "id": "QqfCSiCdPDFK"
      },
      "source": [
        "## Problem 2a)\n",
        "\n",
        "### Design Model"
      ]
    },
    {
      "cell_type": "code",
      "execution_count": null,
      "metadata": {
        "id": "PWczeepjPDFK"
      },
      "outputs": [],
      "source": [
        "class CNNet_2a(nn.Module):\n",
        "\n",
        "    def __init__(self):\n",
        "        \"\"\"\n",
        "\n",
        "        \"\"\"\n",
        "        ## Inherent Torch Module\n",
        "        super(CNNet_2a, self).__init__()\n",
        "\n",
        "        ##TODO: Initialize Model Layers\n",
        "\n",
        "    def forward(self, x):\n",
        "        \"\"\"\n",
        "\n",
        "        \"\"\"\n",
        "        ##TODO: Setup Forward Pass\n",
        "        return NotImplementedError"
      ]
    },
    {
      "cell_type": "markdown",
      "metadata": {
        "id": "YvczCx2ZPDFK"
      },
      "source": [
        "### Model Training"
      ]
    },
    {
      "cell_type": "code",
      "execution_count": null,
      "metadata": {
        "id": "KgepUwPrPDFK"
      },
      "outputs": [],
      "source": [
        "def train(model,\n",
        "          loss_f,\n",
        "          optimizer,\n",
        "          n_epoch=50,\n",
        "          train_dataloader=train_dataloader,\n",
        "          val_dataloader=val_dataloader,\n",
        "          test_dataloader=test_dataloader,\n",
        "          seed_value=None):\n",
        "    \"\"\"\n",
        "\n",
        "    \"\"\"\n",
        "    ##TODO: Implement training loop\n",
        "    raise NotImplementedError"
      ]
    },
    {
      "cell_type": "code",
      "execution_count": null,
      "metadata": {
        "id": "KmV08pS6PDFK"
      },
      "outputs": [],
      "source": [
        "## TODO: choose reasonable hyperparameters (feel free to make adjustments)\n",
        "n_epoch = 50\n",
        "model = CNNet_2a()\n",
        "lr =\n",
        "optimizer =\n",
        "loss_f ="
      ]
    },
    {
      "cell_type": "code",
      "execution_count": null,
      "metadata": {
        "id": "cnmWFEt3PDFK"
      },
      "outputs": [],
      "source": [
        "## Run Training Loop\n",
        "out = train(model, loss_f, optimizer, n_epoch=n_epoch)"
      ]
    },
    {
      "cell_type": "markdown",
      "metadata": {
        "id": "gPN1uK8KPDFL"
      },
      "source": [
        "## Problem 2b)\n",
        "\n",
        "Now try to improve your model using additional techniques learned during class. You should be able to use the same training function as above, but will need to create a new model architecture.\n",
        "\n",
        "### Data Loading\n",
        "\n",
        "You should maintain the splits from above, but feel free to alter the dataloaders (i.e. transforms) as you wish."
      ]
    },
    {
      "cell_type": "code",
      "execution_count": null,
      "metadata": {
        "id": "Ar110CBLPDFL"
      },
      "outputs": [],
      "source": [
        "# Hyperparameter (Feel Free to Change These, but Make Sure your Training Loop Still Works as Expected)\n",
        "TRAIN_BATCH_SIZE = 50\n",
        "VAL_BATCH_SIZE = 50\n",
        "TEST_BATCH_SIZE = 1\n",
        "\n",
        "# Transform data to PIL images\n",
        "transforms = ##TODO: Use the same from above or consider alternatives\n",
        "\n",
        "# Train/Val Subsets\n",
        "train_mask = range(50000)\n",
        "val_mask = range(50000, 60000)\n",
        "\n",
        "# Download/Load Dataset\n",
        "train_dataset = FashionMNIST('./data', train=True, transform=transforms, download=True)\n",
        "test_dataset = FashionMNIST('./data', train=False, transform=transforms, download=True)\n",
        "\n",
        "# Data Loaders\n",
        "train_dataloader = DataLoader(train_dataset, batch_size=TRAIN_BATCH_SIZE, sampler=SubsetRandomSampler(train_mask))\n",
        "val_dataloader = DataLoader(train_dataset, batch_size=VAL_BATCH_SIZE, sampler=SubsetRandomSampler(val_mask))\n",
        "test_dataloader = DataLoader(test_dataset, batch_size=TEST_BATCH_SIZE)"
      ]
    },
    {
      "cell_type": "markdown",
      "metadata": {
        "id": "v8F7EIxXPDFL"
      },
      "source": [
        "### Model Design"
      ]
    },
    {
      "cell_type": "code",
      "execution_count": null,
      "metadata": {
        "id": "VYa6pKlmPDFL"
      },
      "outputs": [],
      "source": [
        "##TODO: Try to improve upon your previous architecture\n",
        "class CNNet_2b(nn.Module):"
      ]
    },
    {
      "cell_type": "markdown",
      "metadata": {
        "id": "Z-vJ08i8PDFL"
      },
      "source": [
        "### Model Training"
      ]
    },
    {
      "cell_type": "code",
      "execution_count": null,
      "metadata": {
        "id": "HSzH1mTLPDFL"
      },
      "outputs": [],
      "source": [
        "##TODO: Fit and evaluate your model. What do you observe?"
      ]
    },
    {
      "cell_type": "markdown",
      "metadata": {
        "id": "gaGzm3x7PDFL"
      },
      "source": [
        "## Problem 2c)\n",
        "\n",
        "Write your response in the Latex PDF report."
      ]
    },
    {
      "cell_type": "markdown",
      "source": [
        "## Generate hw4_utils.py file\n",
        "\n",
        "Paste your code here to test it on autograder, this should include and_gate, or_gate, threshold_activation1, predict_output_v2, preprocess_data, MLP. This will create a file called hw4_utils.py. Note that even if some Errors show up in the autograder, it does not mean your code does not work. We will still look into your implementation manually."
      ],
      "metadata": {
        "id": "MmIdmOubKWUT"
      }
    },
    {
      "cell_type": "code",
      "source": [
        "%%writefile hw4_utils.py\n",
        "\n",
        "# Paste your code here to test it on autograder, this should include and_gate, or_gate,\n",
        "# threshold_activation1, predict_output_v2, preprocess_data, MLP. This will create a file\n",
        "# called hw4_utils.py. Note that even if some Errors show up in the autograder, it does\n",
        "# not mean your code does not work. We will still look into your implementation manually.\n",
        "\n",
        "import numpy as np\n",
        "import torch\n",
        "import torch.nn as nn\n",
        "import random\n",
        "\n",
        "\n",
        "def threshold_activation1(x):\n",
        "\n",
        "def and_gate(x):\n",
        "\n",
        "def or_gate(x):\n",
        "\n",
        "def predict_output_v2(X, W, b):\n",
        "\n",
        "def preprocess_data(X, Y, test_split=1/6):\n",
        "\n",
        "class MLP(nn.Module):\n"
      ],
      "metadata": {
        "id": "2rGnFj_cKTx7"
      },
      "execution_count": null,
      "outputs": []
    }
  ],
  "metadata": {
    "colab": {
      "provenance": []
    },
    "kernelspec": {
      "display_name": "Python 3",
      "language": "python",
      "name": "python3"
    },
    "language_info": {
      "codemirror_mode": {
        "name": "ipython",
        "version": 3
      },
      "file_extension": ".py",
      "mimetype": "text/x-python",
      "name": "python",
      "nbconvert_exporter": "python",
      "pygments_lexer": "ipython3",
      "version": "3.7.4"
    }
  },
  "nbformat": 4,
  "nbformat_minor": 0
}